{
 "cells": [
  {
   "cell_type": "code",
   "execution_count": 270,
   "metadata": {},
   "outputs": [],
   "source": [
    "import numpy as np\n",
    "import matplotlib.pyplot as plt\n",
    "from numpy import random\n",
    "import itertools\n",
    "import math\n",
    "import cma\n",
    "import scipy"
   ]
  },
  {
   "cell_type": "markdown",
   "metadata": {},
   "source": [
    "## Import dataset"
   ]
  },
  {
   "cell_type": "code",
   "execution_count": 43,
   "metadata": {},
   "outputs": [
    {
     "data": {
      "text/plain": [
       "200006"
      ]
     },
     "execution_count": 43,
     "metadata": {},
     "output_type": "execute_result"
    }
   ],
   "source": [
    "Data = []\n",
    "with open(\"data.csv\") as f:\n",
    "    tmp = [line.split() for line in f]        # create a list of lists\n",
    "    for i, x in enumerate(tmp):              #print the list items \n",
    "        Data.append(x[0].split(','))\n",
    "# Data[3]\n",
    "len(Data)"
   ]
  },
  {
   "cell_type": "markdown",
   "metadata": {},
   "source": [
    "## Assign value"
   ]
  },
  {
   "cell_type": "code",
   "execution_count": 149,
   "metadata": {
    "scrolled": true
   },
   "outputs": [
    {
     "name": "stdout",
     "output_type": "stream",
     "text": [
      "Number of state features: 1\n",
      "Number of discrete actions: 2\n",
      "Fourier basis order: 1\n",
      "Parameters of the policy:[[ 0.01 -0.01]\n",
      " [ 1.    1.  ]]\n",
      "Number of episodes:200000\n",
      "10 example episodes:\n",
      " [array([ 0.419908 ,  1.       ,  0.992628 ,  0.366283 ,  0.       ,\n",
      "       10.       ,  0.0622811,  1.       ,  2.98566  ,  0.327772 ,\n",
      "        1.       ,  1.69524  ,  0.612293 ,  0.       ,  6.10134  ])\n",
      " array([ 0.452796,  1.      , -2.49912 ,  0.526937,  1.      ,  7.42631 ,\n",
      "        0.335302,  1.      ,  7.42853 ])\n",
      " array([ 0.536244,  1.      , -3.91362 ,  0.522716,  1.      ,  1.51771 ,\n",
      "        0.40803 ,  1.      , -1.25238 ])\n",
      " array([ 0.594378,  1.      ,  0.023878,  0.610604,  1.      , -1.20107 ,\n",
      "        0.530918,  0.      ,  4.92925 ,  0.588444,  1.      , -3.52819 ,\n",
      "        0.479734,  1.      , -2.66537 ])\n",
      " array([ 0.574179,  1.      , -0.366696,  0.407571,  1.      , -0.199698,\n",
      "        0.459103,  1.      , -3.85923 ,  0.54211 ,  0.      , -2.21454 ,\n",
      "        0.471514,  1.      , -0.276811])\n",
      " array([ 0.472578,  1.      ,  2.19059 ,  0.50435 ,  0.      ,  1.83383 ,\n",
      "        0.471016,  0.      , -2.01866 ,  0.282762,  0.      ,  1.03459 ,\n",
      "        0.530663,  1.      ,  1.45599 ])\n",
      " array([ 0.460504,  1.      ,  3.43955 ,  0.424954,  1.      ,  0.73955 ,\n",
      "        0.523021,  1.      , -4.11871 ,  0.722216,  0.      ,  1.661   ,\n",
      "        0.55201 ,  0.      ,  0.70158 ])\n",
      " array([ 0.562612,  1.      ,  4.72079 ,  0.577186,  0.      , 10.      ,\n",
      "        0.345011,  1.      ,  1.28192 ,  0.405653,  1.      , -0.335965,\n",
      "        0.514811,  0.      ,  1.59005 ])\n",
      " array([ 5.22875e-01,  1.00000e+00,  1.12036e-03,  5.80827e-01,\n",
      "        1.00000e+00,  5.19355e+00,  6.42636e-01,  1.00000e+00,\n",
      "       -1.85142e+00])\n",
      " array([ 0.480104,  0.      , -3.62774 ,  0.627373,  0.      ,  0.240232,\n",
      "        0.548229,  1.      , -0.294515,  0.251275,  1.      ,  5.9702  ,\n",
      "        0.616468,  1.      , -3.10717 ])]\n",
      "First Episode:  [0.775818 0.197512 0.878759 0.819091 0.345012]\n"
     ]
    }
   ],
   "source": [
    "m = int(Data[0][0])\n",
    "A = int(Data[1][0])\n",
    "k = int(Data[2][0])\n",
    "thetab = np.array(Data[3]).astype(np.float).reshape(2,2)\n",
    "n = int(Data[4][0])\n",
    "Episodes = []\n",
    "for i in range(n):\n",
    "    Episodes.append(np.array(Data[i+5]).astype(np.float))\n",
    "Episodes = np.array(Episodes)\n",
    "FirstEp = np.array(Data[200005]).astype(np.float)\n",
    "print(\"Number of state features: %d\\nNumber of discrete actions: %d\\nFourier basis order: %d\\nParameters of the policy:%s\\nNumber of episodes:%d\"%(m,A,k,np.array2string(thetab),n))\n",
    "print(\"10 example episodes:\\n\", Episodes[:10])\n",
    "print(\"First Episode: \",FirstEp)"
   ]
  },
  {
   "cell_type": "markdown",
   "metadata": {},
   "source": [
    "## Process\n",
    "\n",
    "1. split Dataset $D$ into $D_c$ and $D_s$\n",
    "2. Use $D_c$ to select $\\theta c$ according to \n",
    "$$\\theta_c\\in \\mathop {argmax}_{\\theta} PDIS(D_c,\\theta,\\pi_b)$$\n",
    "3. Next, run the safety test. That is, if \n",
    "$$PDIS(D_s,\\theta,\\pi_b)-\\frac{\\hat{\\sigma}_s}{\\sqrt{|D_s|}}t_{1-\\delta,|D_s|-1}\\geq c$$\n",
    "holds, return $\\theta c$, and otherwise return NSF."
   ]
  },
  {
   "cell_type": "code",
   "execution_count": 238,
   "metadata": {},
   "outputs": [
    {
     "data": {
      "text/plain": [
       "((120000,), (80000,))"
      ]
     },
     "execution_count": 238,
     "metadata": {},
     "output_type": "execute_result"
    }
   ],
   "source": [
    "# split dataset\n",
    "D_c = Episodes[:120000]\n",
    "D_s = Episodes[120000:]\n",
    "D_c.shape, D_s.shape\n",
    "# print(D_c[0])\n",
    "# print(D_s[0])"
   ]
  },
  {
   "cell_type": "code",
   "execution_count": 54,
   "metadata": {},
   "outputs": [
    {
     "data": {
      "text/plain": [
       "[[0], [1]]"
      ]
     },
     "execution_count": 54,
     "metadata": {},
     "output_type": "execute_result"
    }
   ],
   "source": [
    "# calculate pi_b\n",
    "pi_b = np.zeros((m,A))\n",
    "\n",
    "c = [list(i) for i in itertools.product(range(k), repeat=4)] # k is dorder\n"
   ]
  },
  {
   "cell_type": "code",
   "execution_count": 192,
   "metadata": {},
   "outputs": [
    {
     "name": "stdout",
     "output_type": "stream",
     "text": [
      "[1.         0.24896982]\n"
     ]
    }
   ],
   "source": [
    "# define FourierBasis\n",
    "\n",
    "class FourierBasis:\n",
    "    def __init__(self, inputDimension, iOrder, dOrder):\n",
    "        self.inputDimension = inputDimension\n",
    "        iTerms = iOrder*inputDimension;#Number of independent terms\n",
    "        dTerms = int(math.pow(dOrder + 1, inputDimension))# Number of dependent terms\n",
    "        oTerms = min(iOrder, dOrder)*inputDimension # Overlap of iTerms and dTerms\n",
    "        self.nTerms = iTerms + dTerms - oTerms\n",
    "#         print(iTerms,dTerms,oTerms,self.nTerms)\n",
    "        counter = np.zeros(inputDimension)\n",
    "        self.c = np.zeros((self.nTerms, inputDimension))\n",
    "        termCount = 0;\n",
    "        while termCount<dTerms:\n",
    "            self.c[termCount] = counter\n",
    "            self.incrementCounter(counter, dOrder)\n",
    "            termCount+=1\n",
    "\n",
    "        for i in range(inputDimension):# Add the independent terms\n",
    "            j = dOrder+1\n",
    "\n",
    "            while  j <= iOrder:\n",
    "#                 print(\"================\")\n",
    "                self.c[termCount][i] = double(j)\n",
    "                termCount+=1\n",
    "                j+=1\n",
    "#                 print(j)\n",
    "#         print(self.c,self.c.shape)\n",
    "\n",
    "    def getNumOutputs(self):\n",
    "        return self.nTerms\n",
    "    \n",
    "    def incrementCounter(self,buff, maxDigit):\n",
    "        for i in range(buff.shape[0]):\n",
    "            buff[i]+=1\n",
    "            if buff[i] <= maxDigit:\n",
    "                break\n",
    "            buff[i] = 0\n",
    "\n",
    "    def basify(self, x):\n",
    "        result = np.zeros(self.nTerms)\n",
    "#         print(\"c[i] x\")\n",
    "        for i in range(self.nTerms):\n",
    "            result[i] = np.cos(math.pi* np.dot(self.c[i], x))\n",
    "#             print(c[i],x)\n",
    "#             print(np.dot(self.c[i], x))\n",
    "        return result\n",
    "\n",
    "# fb = FourierBasis(4, 2, 3)\n",
    "# s = np.array([0.32,0.23,1.3,-5.0])\n",
    "# phi = fb.basify(s)\n",
    "# print(phi)\n",
    "fb = FourierBasis(m, 1, k)\n",
    "s = np.array([0.419908])\n",
    "phi = fb.basify(s)\n",
    "print(phi)"
   ]
  },
  {
   "cell_type": "code",
   "execution_count": 193,
   "metadata": {},
   "outputs": [
    {
     "name": "stdout",
     "output_type": "stream",
     "text": [
      "0.7758179628829157\n",
      "0.19751227246411232\n",
      "0.8787587888894525\n",
      "0.8190914628552088\n",
      "0.34501192170711364\n"
     ]
    }
   ],
   "source": [
    "# define function to calculate pi_b\n",
    "fb = FourierBasis(m, k, k)\n",
    "def calculate_pi(s,a,fb,theta):\n",
    "    phi = fb.basify(s) #2*1\n",
    "    up = np.exp(phi.dot(theta[a]))\n",
    "    down = np.sum(np.exp(phi.dot(theta.T)))\n",
    "    return up/down\n",
    "for i in range(len(Episodes[0])):\n",
    "    if i%3==0:\n",
    "        print(calculate_pi(np.array([Episodes[0][i]]),int(Episodes[0][i+1]),fb,thetab))"
   ]
  },
  {
   "cell_type": "code",
   "execution_count": 376,
   "metadata": {},
   "outputs": [
    {
     "name": "stdout",
     "output_type": "stream",
     "text": [
      "(5_w,11)-aCMA-ES (mu_w=3.4,w_1=42%) in dimension 12 (seed=937505, Sun Dec  8 15:38:14 2019)\n",
      "Iterat #Fevals   function value  axis ratio  sigma  min&max std  t[m:s]\n",
      "    1     11 1.533153626523143e+02 1.0e+00 4.48e-01  4e-01  5e-01 0:00.0\n",
      "    2     22 1.227234134656780e+02 1.1e+00 4.15e-01  4e-01  4e-01 0:00.0\n",
      "    3     33 7.474308100836558e+01 1.2e+00 3.65e-01  3e-01  4e-01 0:00.0\n",
      "  100   1100 8.688294319445351e+00 7.1e+00 2.50e-02  1e-02  4e-02 0:00.4\n",
      "  200   2200 5.606894792282466e+00 1.1e+01 3.49e-02  1e-02  4e-02 0:00.8\n",
      "  300   3300 2.827530770671851e+00 1.3e+01 3.75e-02  7e-03  3e-02 0:01.3\n",
      "  400   4400 7.203275106431795e-01 1.6e+01 3.39e-02  4e-03  2e-02 0:01.7\n",
      "  500   5500 4.391260160201629e-02 3.5e+01 1.75e-02  1e-03  2e-02 0:02.1\n",
      "  600   6600 5.533747747633061e-06 7.7e+01 7.93e-04  4e-05  1e-03 0:02.5\n",
      "  700   7700 8.284791823972258e-12 7.5e+01 1.46e-06  4e-08  1e-06 0:02.9\n",
      "  738   8118 1.189678977337043e-14 7.2e+01 1.46e-07  3e-09  1e-07 0:03.0\n",
      "termination on tolfun=1e-11\n",
      "final/bestever f-value = 1.189679e-14 1.189679e-14\n",
      "incumbent solution: [1. 1. 1. 1. 1. 1. 1. 1. ...]\n",
      "std deviations: [3.38147476e-09 3.17473807e-09 3.10787747e-09 3.36691951e-09\n",
      " 3.39404159e-09 3.54078484e-09 4.83858491e-09 6.92390281e-09 ...]\n"
     ]
    },
    {
     "data": {
      "image/png": "[encoded data removed]",
      "text/plain": [
       "<Figure size 432x288 with 4 Axes>"
      ]
     },
     "metadata": {
      "needs_background": "light"
     },
     "output_type": "display_data"
    },
    {
     "data": {
      "text/plain": [
       "<cma.logger.CMADataLogger at 0x1d35ad9f6c8>"
      ]
     },
     "execution_count": 376,
     "metadata": {},
     "output_type": "execute_result"
    }
   ],
   "source": [
    "# create random policies\n",
    "\n",
    "es = cma.CMAEvolutionStrategy(12 * [0], 0.5)\n",
    "solutions = es.ask()\n",
    "solutions\n",
    "while not es.stop():\n",
    "    solutions = es.ask()# ask for n policies\n",
    "    es.tell(solutions,[cma.ff.rosen(x) for x in solutions])\n",
    "    es.logger.add()  # write data to disc to be plotted\n",
    "    es.disp()\n",
    "es.result_pretty()\n",
    "cma.plot()  # shortcut for es.logger.plot()\n"
   ]
  },
  {
   "cell_type": "code",
   "execution_count": 258,
   "metadata": {},
   "outputs": [
    {
     "name": "stdout",
     "output_type": "stream",
     "text": [
      "1.8203788069989715\n"
     ]
    }
   ],
   "source": [
    "def calculate_PDIS_H(thetae,thetab,epi,fb):\n",
    "    pie_pib = 1.0\n",
    "    ret = 0.0\n",
    "    for t in range(epi.shape[0]):\n",
    "        if t%3==0:\n",
    "            s = np.array([epi[t]])\n",
    "            a = int(epi[t+1])\n",
    "            r = epi[t+2]\n",
    "            up = calculate_pi(s,a,fb,thetae)\n",
    "            down = calculate_pi(s,a,fb,thetab)\n",
    "            pie_pib = pie_pib*(up/down)\n",
    "            ret+=pie_pib*r\n",
    "    return ret\n",
    "print(calculate_PDIS_H(np.array(es.ask(1)).reshape(2,2),thetab,Episodes[10],fb))"
   ]
  },
  {
   "cell_type": "code",
   "execution_count": 349,
   "metadata": {},
   "outputs": [
    {
     "ename": "ValueError",
     "evalue": "cannot reshape array of size 12 into shape (2,2)",
     "output_type": "error",
     "traceback": [
      "\u001b[1;31m---------------------------------------------------------------------------\u001b[0m",
      "\u001b[1;31mValueError\u001b[0m                                Traceback (most recent call last)",
      "\u001b[1;32m<ipython-input-349-0c819dc88f04>\u001b[0m in \u001b[0;36m<module>\u001b[1;34m\u001b[0m\n\u001b[0;32m      4\u001b[0m         \u001b[0mret\u001b[0m\u001b[1;33m.\u001b[0m\u001b[0mappend\u001b[0m\u001b[1;33m(\u001b[0m\u001b[0mcalculate_PDIS_H\u001b[0m\u001b[1;33m(\u001b[0m\u001b[0mthetae\u001b[0m\u001b[1;33m,\u001b[0m\u001b[0mthetab\u001b[0m\u001b[1;33m,\u001b[0m\u001b[0mepi\u001b[0m\u001b[1;33m,\u001b[0m\u001b[0mfb\u001b[0m\u001b[1;33m)\u001b[0m\u001b[1;33m)\u001b[0m\u001b[1;33m\u001b[0m\u001b[1;33m\u001b[0m\u001b[0m\n\u001b[0;32m      5\u001b[0m     \u001b[1;32mreturn\u001b[0m \u001b[0mnp\u001b[0m\u001b[1;33m.\u001b[0m\u001b[0mmean\u001b[0m\u001b[1;33m(\u001b[0m\u001b[0mnp\u001b[0m\u001b[1;33m.\u001b[0m\u001b[0marray\u001b[0m\u001b[1;33m(\u001b[0m\u001b[0mret\u001b[0m\u001b[1;33m)\u001b[0m\u001b[1;33m)\u001b[0m\u001b[1;33m,\u001b[0m\u001b[0mnp\u001b[0m\u001b[1;33m.\u001b[0m\u001b[0mstd\u001b[0m\u001b[1;33m(\u001b[0m\u001b[0mnp\u001b[0m\u001b[1;33m.\u001b[0m\u001b[0marray\u001b[0m\u001b[1;33m(\u001b[0m\u001b[0mret\u001b[0m\u001b[1;33m)\u001b[0m\u001b[1;33m,\u001b[0m \u001b[0mddof\u001b[0m\u001b[1;33m=\u001b[0m\u001b[1;36m1\u001b[0m\u001b[1;33m)\u001b[0m\u001b[1;33m\u001b[0m\u001b[1;33m\u001b[0m\u001b[0m\n\u001b[1;32m----> 6\u001b[1;33m \u001b[0mprint\u001b[0m\u001b[1;33m(\u001b[0m\u001b[0mcalculate_PDIS_D\u001b[0m\u001b[1;33m(\u001b[0m\u001b[0mD_c\u001b[0m\u001b[1;33m,\u001b[0m\u001b[0mnp\u001b[0m\u001b[1;33m.\u001b[0m\u001b[0marray\u001b[0m\u001b[1;33m(\u001b[0m\u001b[0mes\u001b[0m\u001b[1;33m.\u001b[0m\u001b[0mask\u001b[0m\u001b[1;33m(\u001b[0m\u001b[1;36m1\u001b[0m\u001b[1;33m)\u001b[0m\u001b[1;33m)\u001b[0m\u001b[1;33m.\u001b[0m\u001b[0mreshape\u001b[0m\u001b[1;33m(\u001b[0m\u001b[1;36m2\u001b[0m\u001b[1;33m,\u001b[0m\u001b[1;36m2\u001b[0m\u001b[1;33m)\u001b[0m\u001b[1;33m,\u001b[0m\u001b[0mthetab\u001b[0m\u001b[1;33m,\u001b[0m\u001b[0mfb\u001b[0m\u001b[1;33m)\u001b[0m\u001b[1;33m)\u001b[0m\u001b[1;33m\u001b[0m\u001b[1;33m\u001b[0m\u001b[0m\n\u001b[0m",
      "\u001b[1;31mValueError\u001b[0m: cannot reshape array of size 12 into shape (2,2)"
     ]
    }
   ],
   "source": [
    "def calculate_PDIS_D(episodes,thetae,thetab,fb):\n",
    "    ret = []\n",
    "    for epi in episodes:\n",
    "        ret.append(calculate_PDIS_H(thetae,thetab,epi,fb))\n",
    "    return np.mean(np.array(ret)),np.std(np.array(ret), ddof=1)\n",
    "print(calculate_PDIS_D(D_c,np.array(es.ask(1)).reshape(2,2),thetab,fb))"
   ]
  },
  {
   "cell_type": "code",
   "execution_count": 345,
   "metadata": {
    "scrolled": true
   },
   "outputs": [
    {
     "name": "stdout",
     "output_type": "stream",
     "text": [
      "sigma:  6.0004\n",
      "(4_w,8)-aCMA-ES (mu_w=2.6,w_1=52%) in dimension 4 (seed=932165, Sun Dec  8 14:37:33 2019)\n",
      "bad!\n",
      "bad!\n",
      "bad!\n",
      "bad!\n",
      "bad!\n",
      "bad!\n",
      "Iterat #Fevals   function value  axis ratio  sigma  min&max std  t[m:s]\n",
      "    1      8 -1.125535811059037e+01 1.0e+00 6.00e+00  6e+00  6e+00 0:02.7\n",
      "bad!\n",
      "bad!\n",
      "    2     16 -1.127410883844619e+01 1.3e+00 6.03e+00  6e+00  7e+00 0:05.4\n",
      "bad!\n",
      "bad!\n",
      "    3     24 -1.126107307885455e+01 1.4e+00 8.55e+00  7e+00  1e+01 0:08.2\n",
      "bad!\n",
      "bad!\n",
      "    5     40 -1.126106549064590e+01 1.8e+00 1.59e+01  1e+01  2e+01 0:13.6\n",
      "    7     56 -1.126106549064590e+01 2.2e+00 2.53e+01  2e+01  3e+01 0:19.2\n"
     ]
    },
    {
     "name": "stderr",
     "output_type": "stream",
     "text": [
      "C:\\Users\\gx\\Anaconda3\\lib\\site-packages\\cma\\utilities\\utils.py:333: UserWarning: flat fitness (f=-11.261065, sigma=3.18e+01).\n",
      "                    For small sigma, this could indicate numerical convergence.\n",
      "                    Otherwise, please (re)consider how to compute the fitness more elaborately. (iteration=8)\n",
      "  ')')\n",
      "C:\\Users\\gx\\Anaconda3\\lib\\site-packages\\cma\\utilities\\utils.py:333: UserWarning: flat fitness (f=-11.261065, sigma=3.86e+01).\n",
      "                    For small sigma, this could indicate numerical convergence.\n",
      "                    Otherwise, please (re)consider how to compute the fitness more elaborately. (iteration=9)\n",
      "  ')')\n"
     ]
    },
    {
     "name": "stdout",
     "output_type": "stream",
     "text": [
      "    9     72 -1.126106549064590e+01 2.5e+00 3.86e+01  3e+01  5e+01 0:24.3\n"
     ]
    },
    {
     "name": "stderr",
     "output_type": "stream",
     "text": [
      "C:\\Users\\gx\\Anaconda3\\lib\\site-packages\\cma\\utilities\\utils.py:333: UserWarning: flat fitness (f=-11.261065, sigma=3.77e+01).\n",
      "                    For small sigma, this could indicate numerical convergence.\n",
      "                    Otherwise, please (re)consider how to compute the fitness more elaborately. (iteration=10)\n",
      "  ')')\n",
      "C:\\Users\\gx\\Anaconda3\\lib\\site-packages\\cma\\utilities\\utils.py:333: UserWarning: flat fitness (f=-11.261065, sigma=3.96e+01).\n",
      "                    For small sigma, this could indicate numerical convergence.\n",
      "                    Otherwise, please (re)consider how to compute the fitness more elaborately. (iteration=11)\n",
      "  ')')\n",
      "C:\\Users\\gx\\Anaconda3\\lib\\site-packages\\cma\\utilities\\utils.py:333: UserWarning: flat fitness (f=-11.261065, sigma=4.07e+01).\n",
      "                    For small sigma, this could indicate numerical convergence.\n",
      "                    Otherwise, please (re)consider how to compute the fitness more elaborately. (iteration=12)\n",
      "  ')')\n"
     ]
    },
    {
     "name": "stdout",
     "output_type": "stream",
     "text": [
      "   12     96 -1.126106549064590e+01 4.1e+00 4.07e+01  3e+01  6e+01 0:32.5\n"
     ]
    },
    {
     "name": "stderr",
     "output_type": "stream",
     "text": [
      "C:\\Users\\gx\\Anaconda3\\lib\\site-packages\\cma\\utilities\\utils.py:333: UserWarning: flat fitness (f=-11.261065, sigma=2.66e+01).\n",
      "                    For small sigma, this could indicate numerical convergence.\n",
      "                    Otherwise, please (re)consider how to compute the fitness more elaborately. (iteration=14)\n",
      "  ')')\n",
      "C:\\Users\\gx\\Anaconda3\\lib\\site-packages\\cma\\utilities\\utils.py:333: UserWarning: flat fitness (f=-11.261065, sigma=2.49e+01).\n",
      "                    For small sigma, this could indicate numerical convergence.\n",
      "                    Otherwise, please (re)consider how to compute the fitness more elaborately. (iteration=15)\n",
      "  ')')\n"
     ]
    },
    {
     "name": "stdout",
     "output_type": "stream",
     "text": [
      "   15    120 -1.126106549064590e+01 5.4e+00 2.49e+01  2e+01  4e+01 0:40.8\n"
     ]
    },
    {
     "name": "stderr",
     "output_type": "stream",
     "text": [
      "C:\\Users\\gx\\Anaconda3\\lib\\site-packages\\cma\\utilities\\utils.py:333: UserWarning: flat fitness (f=-11.261065, sigma=2.41e+01).\n",
      "                    For small sigma, this could indicate numerical convergence.\n",
      "                    Otherwise, please (re)consider how to compute the fitness more elaborately. (iteration=16)\n",
      "  ')')\n"
     ]
    },
    {
     "name": "stdout",
     "output_type": "stream",
     "text": [
      "   18    144 -1.126106549064590e+01 6.6e+00 2.44e+01  1e+01  3e+01 0:49.0\n"
     ]
    },
    {
     "name": "stderr",
     "output_type": "stream",
     "text": [
      "C:\\Users\\gx\\Anaconda3\\lib\\site-packages\\cma\\utilities\\utils.py:333: UserWarning: flat fitness (f=-11.261065, sigma=2.40e+01).\n",
      "                    For small sigma, this could indicate numerical convergence.\n",
      "                    Otherwise, please (re)consider how to compute the fitness more elaborately. (iteration=19)\n",
      "  ')')\n",
      "C:\\Users\\gx\\Anaconda3\\lib\\site-packages\\cma\\utilities\\utils.py:333: UserWarning: flat fitness (f=-11.261065, sigma=2.37e+01).\n",
      "                    For small sigma, this could indicate numerical convergence.\n",
      "                    Otherwise, please (re)consider how to compute the fitness more elaborately. (iteration=20)\n",
      "  ')')\n",
      "C:\\Users\\gx\\Anaconda3\\lib\\site-packages\\cma\\utilities\\utils.py:333: UserWarning: flat fitness (f=-11.261065, sigma=2.10e+01).\n",
      "                    For small sigma, this could indicate numerical convergence.\n",
      "                    Otherwise, please (re)consider how to compute the fitness more elaborately. (iteration=21)\n",
      "  ')')\n",
      "C:\\Users\\gx\\Anaconda3\\lib\\site-packages\\cma\\utilities\\utils.py:333: UserWarning: flat fitness (f=-11.261065, sigma=2.06e+01).\n",
      "                    For small sigma, this could indicate numerical convergence.\n",
      "                    Otherwise, please (re)consider how to compute the fitness more elaborately. (iteration=22)\n",
      "  ')')\n"
     ]
    },
    {
     "name": "stdout",
     "output_type": "stream",
     "text": [
      "   22    176 -1.126106549064590e+01 4.4e+00 2.06e+01  1e+01  3e+01 0:59.8\n"
     ]
    },
    {
     "name": "stderr",
     "output_type": "stream",
     "text": [
      "C:\\Users\\gx\\Anaconda3\\lib\\site-packages\\cma\\utilities\\utils.py:333: UserWarning: flat fitness (f=-11.261065, sigma=2.67e+01).\n",
      "                    For small sigma, this could indicate numerical convergence.\n",
      "                    Otherwise, please (re)consider how to compute the fitness more elaborately. (iteration=23)\n",
      "  ')')\n",
      "C:\\Users\\gx\\Anaconda3\\lib\\site-packages\\cma\\utilities\\utils.py:333: UserWarning: flat fitness (f=-11.261065, sigma=3.26e+01).\n",
      "                    For small sigma, this could indicate numerical convergence.\n",
      "                    Otherwise, please (re)consider how to compute the fitness more elaborately. (iteration=24)\n",
      "  ')')\n",
      "C:\\Users\\gx\\Anaconda3\\lib\\site-packages\\cma\\utilities\\utils.py:333: UserWarning: flat fitness (f=-11.261065, sigma=3.16e+01).\n",
      "                    For small sigma, this could indicate numerical convergence.\n",
      "                    Otherwise, please (re)consider how to compute the fitness more elaborately. (iteration=25)\n",
      "  ')')\n",
      "C:\\Users\\gx\\Anaconda3\\lib\\site-packages\\cma\\utilities\\utils.py:333: UserWarning: flat fitness (f=-11.261065, sigma=3.59e+01).\n",
      "                    For small sigma, this could indicate numerical convergence.\n",
      "                    Otherwise, please (re)consider how to compute the fitness more elaborately. (iteration=26)\n",
      "  ')')\n"
     ]
    },
    {
     "name": "stdout",
     "output_type": "stream",
     "text": [
      "   26    208 -1.126106549064590e+01 5.8e+00 3.59e+01  2e+01  5e+01 1:10.7\n"
     ]
    },
    {
     "name": "stderr",
     "output_type": "stream",
     "text": [
      "C:\\Users\\gx\\Anaconda3\\lib\\site-packages\\cma\\utilities\\utils.py:333: UserWarning: flat fitness (f=-11.261065, sigma=4.15e+01).\n",
      "                    For small sigma, this could indicate numerical convergence.\n",
      "                    Otherwise, please (re)consider how to compute the fitness more elaborately. (iteration=27)\n",
      "  ')')\n"
     ]
    },
    {
     "name": "stdout",
     "output_type": "stream",
     "text": [
      "   28    224 -1.126106549064590e+01 6.6e+00 3.77e+01  2e+01  6e+01 1:16.1\n",
      "termination on tolfunhist=1e-12\n",
      "final/bestever f-value = -1.126107e+01 -1.127411e+01\n",
      "incumbent solution: [24.58064098308771, 212.91416091311575, -173.15887387059706, 55.84515798321986]\n",
      "std deviation: [20.287128914857227, 60.95557957382861, 37.647951211209865, 29.196566610461854]\n"
     ]
    },
    {
     "data": {
      "image/png": "[encoded data removed]",
      "text/plain": [
       "<Figure size 432x288 with 4 Axes>"
      ]
     },
     "metadata": {
      "needs_background": "light"
     },
     "output_type": "display_data"
    },
    {
     "name": "stdout",
     "output_type": "stream",
     "text": [
      "min: -1.3203495741021674\n"
     ]
    }
   ],
   "source": [
    "sigma = 2.0*(thetab.reshape(-1).dot(thetab.reshape(-1)) + 1.0)# sigma not sure\n",
    "print(\"sigma: \",sigma)\n",
    "es = cma.CMAEvolutionStrategy(thetab.reshape(-1), sigma)# start search from pi_b\n",
    "delta = 0.1\n",
    "c = 0\n",
    "min1 = 10000\n",
    "D_s_size = 1000\n",
    "while not es.stop():\n",
    "    solutions = es.ask()# ask for n policies\n",
    "    tell = []\n",
    "    for x in solutions:\n",
    "        pred,sig = calculate_PDIS_D(D_c[:1000],np.array(x).reshape(2,2),thetab,fb)\n",
    "        if pred<min1:\n",
    "            min1 = pred\n",
    "        t_test = pred-2*sig/np.sqrt(D_s_size)*scipy.stats.t.ppf(1-delta,D_s_size-1)\n",
    "#         print(c)\n",
    "        if np.isnan(t_test):\n",
    "            print(\"???\")\n",
    "        if t_test <c or np.isnan(t_test):\n",
    "            print(\"bad!\")\n",
    "            pred = -100000-pred\n",
    "        pred = -pred\n",
    "        tell.append(pred)\n",
    "    es.tell(solutions,tell)\n",
    "#     es.tell(solutions,[-calculate_PDIS_D(D_c[:100],np.array(x).reshape(2,2),thetab,fb)[0] for x in solutions])\n",
    "    es.logger.add()  # write data to disc to be plotted\n",
    "    es.disp()\n",
    "es.result_pretty()\n",
    "cma.plot()  # shortcut for es.logger.plot()\n",
    "print(\"min:\",min1)"
   ]
  },
  {
   "cell_type": "code",
   "execution_count": 346,
   "metadata": {},
   "outputs": [
    {
     "name": "stdout",
     "output_type": "stream",
     "text": [
      "[array([  40.01924447,  176.19724451, -139.01414747,   39.69430928])]\n"
     ]
    }
   ],
   "source": [
    "print(es.ask(1))"
   ]
  },
  {
   "cell_type": "code",
   "execution_count": 274,
   "metadata": {},
   "outputs": [],
   "source": [
    "# t test\n",
    "X, delta = calculate_PDIS_D(D_c,np.array(es.ask(1)).reshape(2,2),thetab,fb)"
   ]
  },
  {
   "cell_type": "code",
   "execution_count": 275,
   "metadata": {},
   "outputs": [
    {
     "name": "stdout",
     "output_type": "stream",
     "text": [
      "6.609104429177484\n"
     ]
    }
   ],
   "source": [
    "safety = X-2*delta/np.sqrt(D_s_size)*scipy.stats.t.ppf(1-0.5,D_s_size-1)\n",
    "print(safety)"
   ]
  },
  {
   "cell_type": "code",
   "execution_count": 285,
   "metadata": {},
   "outputs": [
    {
     "name": "stdout",
     "output_type": "stream",
     "text": [
      "6.638010660180646e-17\n"
     ]
    }
   ],
   "source": [
    "print(scipy.stats.t.ppf(1-delta,D_s_size-1))"
   ]
  },
  {
   "cell_type": "code",
   "execution_count": 347,
   "metadata": {
    "scrolled": true
   },
   "outputs": [
    {
     "name": "stdout",
     "output_type": "stream",
     "text": [
      "9.563153453891236\n",
      "9.563153453877264\n",
      "9.563153453877264\n",
      "9.563153453877462\n",
      "9.563153453877264\n",
      "9.563153453877264\n",
      "9.563153453877264\n",
      "9.563153453877366\n",
      "9.563153453877264\n",
      "9.563153453877538\n",
      "9.563153453877264\n",
      "9.563153453990635\n",
      "9.384631345877846\n",
      "9.563153453877264\n",
      "9.563153453877264\n",
      "9.563153453877264\n",
      "9.563153454216042\n",
      "9.567769869705533\n",
      "9.56315345387729\n",
      "9.563153454261363\n",
      "9.563153453877264\n",
      "9.563153453877291\n",
      "9.563153453877264\n",
      "11.11216373889329\n",
      "9.563153453877264\n",
      "9.563153453877264\n",
      "9.563153453877264\n",
      "9.563153453877264\n",
      "9.563153453877264\n",
      "9.563153453877264\n",
      "9.62719903055379\n",
      "9.563153453877264\n",
      "9.563153453877264\n",
      "9.563153453877264\n",
      "9.5631534538883\n",
      "9.563153453877264\n",
      "9.563153453877264\n",
      "9.563153453877264\n",
      "9.563153453877264\n",
      "9.56315391281776\n",
      "9.563153453877264\n",
      "9.563153453877264\n",
      "9.563153453877264\n",
      "9.563153453877264\n",
      "9.563153453877264\n",
      "9.563198706901431\n",
      "9.563153453877264\n",
      "9.563153453877264\n",
      "9.56315345387758\n",
      "9.563153453877264\n",
      "9.792489731637245\n",
      "9.563153453877264\n",
      "9.563153453877264\n",
      "9.563153453877264\n",
      "9.563153453877264\n",
      "9.563153453877264\n",
      "9.563153453877264\n",
      "9.563153453877264\n",
      "9.563153453877264\n",
      "9.563153453877264\n",
      "9.563153453877264\n",
      "9.563153453877264\n",
      "9.563153453877264\n",
      "9.563153453877264\n",
      "9.563153453877264\n",
      "9.563153453877264\n",
      "9.563153453877264\n",
      "9.390383165176626\n",
      "9.563153453877264\n",
      "9.563153453877264\n",
      "9.563153453877264\n",
      "9.571756687792778\n",
      "9.563153453877264\n",
      "9.563153453877264\n",
      "9.563153453877264\n",
      "9.563153453917199\n",
      "9.56315345387728\n",
      "9.56315345391314\n",
      "9.563178049588503\n",
      "10.979301216347254\n",
      "9.563153453877272\n",
      "9.563153453877264\n",
      "9.56315345388327\n",
      "9.563153453877264\n",
      "9.563153453877264\n",
      "11.11320902132769\n",
      "9.563153453877264\n",
      "9.563153454174854\n",
      "9.57906065290539\n",
      "9.563153453877264\n",
      "9.563153453877264\n",
      "9.563153453877264\n",
      "9.563153453877264\n",
      "9.563153460203695\n",
      "9.563153453877264\n",
      "9.563153453877264\n",
      "9.563153453877264\n",
      "9.563153453877264\n",
      "9.563153453877264\n",
      "9.563153453877264\n",
      "100\n"
     ]
    },
    {
     "name": "stdout",
     "output_type": "stream",
     "text": [
      "[array([  11.34753367,  275.54012672, -197.570613  ,   65.63316922]), array([  46.20122098,  143.06204178, -157.56577132,   66.60646314]), array([  47.066628  ,  192.43918214, -148.22347467,   77.1271436 ]), array([  15.70982591,  285.12427112, -176.62099874,   99.07133058]), array([  31.25200188,  183.67149541, -131.5839018 ,   61.29651938]), array([  32.11036531,  244.69348183, -145.36158122,   84.24870886]), array([  41.48131367,  123.19647712, -124.90809153,   18.69781542]), array([  -6.1503555 ,  302.29155757, -234.01407406,   76.35210447]), array([  39.89867795,  218.83523849, -133.6619876 ,   85.73751778]), array([  -0.48207921,  189.19201842, -165.47603655,   34.03877154]), array([  23.23227565,  214.78818797, -132.57883123,   85.20358842]), array([  18.29187012,  272.03792398, -146.34735446,  110.39076201]), array([ -34.30860864,  461.78557242, -280.71778422,  132.79789231]), array([  44.1361031 ,  160.75261287, -122.39381331,   53.42204759]), array([  34.82216964,  174.7685888 , -120.33759805,   46.55899174]), array([  -7.13771252,  253.38473999, -255.64813716,   24.68343159]), array([   3.13530752,  265.45934761, -194.87936336,   64.37849306]), array([ -23.27297287,  301.85674768, -244.16607922,   55.80660605]), array([  38.78234429,  244.9001699 , -124.23949939,   94.77807954]), array([   9.67775041,  262.26381576, -204.49843929,   42.55061747]), array([  33.01998167,  130.38122882, -136.35148759,   40.98734825]), array([  22.39088223,  252.13038655, -195.90562256,   38.69363628]), array([  22.5590895 ,  222.4053795 , -153.20532551,   72.45009406]), array([ -29.71379202,  299.52684788, -217.47020061,   66.97982044]), array([ 26.17187475,  92.0621934 , -86.01661633,  46.75041988]), array([  37.71991149,  189.02185079, -143.76544292,   61.94465292]), array([  17.25351205,  262.90276372, -190.95381919,   87.92847538]), array([   4.89796677,  227.71018417, -208.10143197,   49.41517863]), array([  26.15849696,  198.5506084 , -190.92762112,   49.41443329]), array([  15.38205629,  199.26251911, -176.96266836,   38.91657884]), array([   2.29320421,  350.30617715, -211.22248962,  109.64222751]), array([  33.44784389,  170.5728444 , -145.46239476,   14.82041381]), array([  20.68640822,  156.56509812, -132.44884109,   44.21452819]), array([  12.28973198,  159.1851237 , -156.75573015,   40.72100785]), array([   3.25601149,  228.62813585, -199.24141961,   26.33643928]), array([  29.73053217,  219.05829214, -188.77086934,   33.75429615]), array([  61.89453484,  133.35458011, -105.86344372,   77.53913652]), array([  -1.62791614,  194.55517631, -202.52972544,   20.88955968]), array([  42.07235988,  199.70800075, -133.1731281 ,   71.54964022]), array([  18.54908565,  314.23696659, -190.21374416,   92.61052814]), array([  57.90602009,  164.66149555, -139.79718794,   52.28420656]), array([  14.88204353,  176.18298372, -178.84031433,   23.36910073]), array([  40.6462499 ,  207.40894507, -137.00805781,   92.82612991]), array([  36.79679073,  166.84631164, -201.14544624,   32.71260959]), array([  16.2601337 ,  217.25959789, -222.20775877,   45.18282483]), array([   1.05461683,  239.81645799, -148.0240925 ,   81.21617156]), array([  24.14196844,  182.05978995, -181.47896576,   19.51467357]), array([  20.93970289,  219.19447191, -175.57153604,   55.49091973]), array([ -11.76667604,  307.15105663, -228.84660856,   92.23686961]), array([  58.31219242,  152.96023397, -122.99342069,   55.63525779]), array([  -9.97037557,  274.19547618, -202.90808962,   55.47849306]), array([  16.69633227,  202.38812779, -160.18998067,   77.90041724]), array([  36.7296413 ,  170.66770872, -191.7891178 ,   56.27287116]), array([  61.53169799,  146.85732944, -122.2497325 ,   70.3404501 ]), array([  29.50250238,  201.38214124, -211.93244782,   18.37120392]), array([   8.55480389,  182.79086008, -213.29655669,    5.38191638]), array([  42.06698294,  211.34423765, -134.38446121,   68.216125  ]), array([  36.61994791,  200.74230321, -192.83496129,   33.18963914]), array([   9.89846143,  240.20817175, -167.90802079,   83.95942437]), array([  34.44600532,  222.7324324 , -128.34906682,   96.62295516]), array([  36.8435205 ,  270.95683306, -152.37351269,  116.25147968]), array([  12.19661284,  189.99973605, -223.52833209,    4.91604622]), array([  46.58537061,  213.19722214, -196.29506908,   86.16799404]), array([  15.04862493,  172.54795137, -151.21860379,   24.23300878]), array([  50.49753824,  137.58755498, -103.32060651,   60.7150933 ]), array([  31.776616  ,  250.9304829 , -227.72516965,   56.01114636]), array([  32.50093733,  228.83624999, -179.97848803,   52.18578267]), array([ -12.96490441,  285.59009669, -191.19534688,   48.21525942]), array([  11.39917103,  232.67504299, -211.42447015,   42.65761325]), array([  48.19805017,  173.1327752 , -136.73042726,   72.54688161]), array([   6.32940517,  191.09540407, -216.67011123,    8.45394793]), array([   3.91610011,  240.0786929 , -153.98244542,   65.37895659]), array([  17.58853043,  178.01410164, -140.82322117,   41.68886148]), array([  35.58416493,  191.76697701, -184.10459802,   55.15903532]), array([  15.24718757,  192.00217927, -189.45710208,   28.10582087]), array([  22.94287326,  233.9664226 , -163.61797347,   48.43469922]), array([  10.06891543,  319.81924036, -226.91254194,   85.50818185]), array([  -3.2700512 ,  295.21657226, -221.09640865,   74.03986221]), array([  -4.77853771,  245.0679701 , -187.92802975,   48.18835439]), array([  -1.63779094,  249.740145  , -165.02558517,   60.12829698]), array([  42.09219872,  254.36381818, -104.21438518,  124.6334541 ]), array([  42.82241791,  208.48670806, -143.78737663,   56.97142514]), array([   2.59400184,  297.42070293, -218.84466718,   74.15584262]), array([  25.32782494,  205.91252974, -171.32131593,   58.99296816]), array([  28.54008866,  158.91231953, -109.72566763,   46.02830675]), array([   3.54999915,  240.05294117, -180.85807162,   18.47008666]), array([  31.78211328,  277.73623984, -175.00155311,  101.49267808]), array([  20.84323391,  222.30294273, -126.33023386,   79.53251358]), array([  18.54538921,  286.62843474, -143.42331385,  106.56388352]), array([  36.97176658,  195.03221735, -209.76813997,   51.78009309]), array([   1.15567309,  226.46629954, -203.2579465 ,   41.16637262]), array([  11.75189124,  206.38907682, -193.61884818,   40.96121903]), array([  26.18107234,  206.94151884, -157.19703785,   65.45115289]), array([  20.94923462,  248.75929276, -153.84354626,   70.89554094]), array([  22.1623288 ,  165.33673564, -179.30273746,   24.60052594]), array([   1.8634199 ,  154.46369926, -218.27178795,    4.11678055]), array([  30.15751574,  147.58602854, -164.17497407,   18.03855866]), array([  28.07605128,  186.85259677, -176.38926332,   41.54308766]), array([  49.85302878,  162.17415509, -155.72716764,   61.17987383]), array([  31.9145466 ,  210.01530946, -151.54869571,   63.60047651])]\n"
     ]
    }
   ],
   "source": [
    "# run safety test\n",
    "solutions = es.ask(100)\n",
    "final_solutions = []\n",
    "for s in solutions:\n",
    "#     print(\".\", end=\"\")\n",
    "#     pred,_ = calculate_PDIS_D(D_c[:1000],np.array(s).reshape(2,2),thetab,fb)\n",
    "    pred,sig = calculate_PDIS_D(D_s[:1000],np.array(s).reshape(2,2),thetab,fb)\n",
    "    print(pred)\n",
    "    safety = pred - sig/np.sqrt(D_s_size)*scipy.stats.t.ppf(1-delta,D_s_size-1)\n",
    "    if safety>=c:\n",
    "        final_solutions.append(s)\n",
    "print(len(final_solutions))\n",
    "print(final_solutions)"
   ]
  },
  {
   "cell_type": "code",
   "execution_count": 371,
   "metadata": {},
   "outputs": [
    {
     "name": "stdout",
     "output_type": "stream",
     "text": [
      "(7_w,14)-aCMA-ES (mu_w=4.3,w_1=36%) in dimension 32 (seed=954665, Sun Dec  8 15:24:15 2019)\n",
      "Iterat #Fevals   function value  axis ratio  sigma  min&max std  t[m:s]\n",
      "    1     14 -4.400000000000000e+01 1.0e+00 9.39e-01  9e-01  9e-01 0:00.9\n",
      "    2     28 -1.900000000000000e+01 1.1e+00 8.95e-01  9e-01  9e-01 0:01.4\n",
      "    3     42 -3.800000000000000e+01 1.1e+00 8.77e-01  9e-01  9e-01 0:02.0\n",
      "    7     98 -8.400000000000000e+01 1.2e+00 8.62e-01  8e-01  9e-01 0:05.7\n",
      "   10    140 -2.110000000000000e+02 1.2e+00 8.64e-01  9e-01  9e-01 0:10.2\n",
      "   13    182 -2.990000000000000e+02 1.3e+00 8.28e-01  8e-01  9e-01 0:17.0\n",
      "   15    210 -6.450000000000000e+02 1.3e+00 8.03e-01  8e-01  8e-01 0:24.1\n",
      "   18    252 -3.210000000000000e+02 1.4e+00 7.68e-01  7e-01  8e-01 0:34.0\n",
      "   19    266 -4.400000000000000e+02 1.4e+00 7.57e-01  7e-01  8e-01 0:43.1\n",
      "   21    294 -5.180000000000000e+02 1.4e+00 7.43e-01  7e-01  8e-01 1:03.1\n",
      "   22    308 -5.560000000000000e+02 1.4e+00 7.40e-01  7e-01  8e-01 1:13.4\n",
      "   24    336 -7.680000000000000e+02 1.4e+00 7.30e-01  7e-01  8e-01 1:36.2\n",
      "   26    364 -7.810000000000000e+02 1.4e+00 7.46e-01  7e-01  8e-01 1:55.4\n",
      "   27    378 -8.080000000000000e+02 1.5e+00 7.47e-01  7e-01  8e-01 2:08.6\n",
      "   29    406 -6.430000000000000e+02 1.5e+00 7.25e-01  7e-01  8e-01 2:29.7\n",
      "   31    434 -1.001000000000000e+03 1.5e+00 7.16e-01  7e-01  8e-01 2:56.5\n",
      "   33    462 -1.001000000000000e+03 1.6e+00 7.09e-01  7e-01  8e-01 3:23.1\n",
      "   35    490 -7.190000000000000e+02 1.6e+00 7.01e-01  7e-01  8e-01 3:45.3\n",
      "   37    518 -1.001000000000000e+03 1.6e+00 7.10e-01  7e-01  8e-01 4:18.6\n",
      "   39    546 -1.001000000000000e+03 1.7e+00 7.37e-01  7e-01  8e-01 4:45.6\n",
      "   41    574 -1.001000000000000e+03 1.7e+00 7.60e-01  7e-01  8e-01 5:17.9\n",
      "   43    602 -1.001000000000000e+03 1.8e+00 7.22e-01  7e-01  8e-01 5:55.5\n",
      "   45    630 -1.001000000000000e+03 1.8e+00 7.18e-01  7e-01  8e-01 6:25.9\n",
      "   47    658 -1.001000000000000e+03 1.8e+00 6.79e-01  6e-01  7e-01 7:02.4\n",
      "   49    686 -1.001000000000000e+03 1.8e+00 6.62e-01  6e-01  7e-01 7:35.6\n",
      "   51    714 -1.001000000000000e+03 1.9e+00 6.42e-01  6e-01  7e-01 8:10.7\n",
      "   52    728 -1.001000000000000e+03 1.9e+00 6.33e-01  6e-01  7e-01 8:39.1\n",
      "   54    756 -1.001000000000000e+03 1.9e+00 6.15e-01  6e-01  7e-01 9:18.3\n",
      "   56    784 -1.001000000000000e+03 1.9e+00 5.95e-01  6e-01  6e-01 9:58.9\n"
     ]
    },
    {
     "ename": "KeyboardInterrupt",
     "evalue": "",
     "output_type": "error",
     "traceback": [
      "\u001b[1;31m---------------------------------------------------------------------------\u001b[0m",
      "\u001b[1;31mKeyboardInterrupt\u001b[0m                         Traceback (most recent call last)",
      "\u001b[1;32m<ipython-input-371-c89a2a40f2f8>\u001b[0m in \u001b[0;36m<module>\u001b[1;34m\u001b[0m\n\u001b[0;32m     51\u001b[0m \u001b[1;32mwhile\u001b[0m \u001b[1;32mnot\u001b[0m \u001b[0mes\u001b[0m\u001b[1;33m.\u001b[0m\u001b[0mstop\u001b[0m\u001b[1;33m(\u001b[0m\u001b[1;33m)\u001b[0m\u001b[1;33m:\u001b[0m\u001b[1;33m\u001b[0m\u001b[1;33m\u001b[0m\u001b[0m\n\u001b[0;32m     52\u001b[0m     \u001b[0msolutions\u001b[0m \u001b[1;33m=\u001b[0m \u001b[0mes\u001b[0m\u001b[1;33m.\u001b[0m\u001b[0mask\u001b[0m\u001b[1;33m(\u001b[0m\u001b[1;33m)\u001b[0m\u001b[1;31m# ask for n policies\u001b[0m\u001b[1;33m\u001b[0m\u001b[1;33m\u001b[0m\u001b[0m\n\u001b[1;32m---> 53\u001b[1;33m     \u001b[0mes\u001b[0m\u001b[1;33m.\u001b[0m\u001b[0mtell\u001b[0m\u001b[1;33m(\u001b[0m\u001b[0msolutions\u001b[0m\u001b[1;33m,\u001b[0m\u001b[1;33m[\u001b[0m\u001b[1;33m-\u001b[0m\u001b[0mevaluationFunction2\u001b[0m\u001b[1;33m(\u001b[0m\u001b[0mx\u001b[0m\u001b[1;33m,\u001b[0m\u001b[1;36m10\u001b[0m\u001b[1;33m)\u001b[0m \u001b[1;32mfor\u001b[0m \u001b[0mx\u001b[0m \u001b[1;32min\u001b[0m \u001b[0msolutions\u001b[0m\u001b[1;33m]\u001b[0m\u001b[1;33m)\u001b[0m\u001b[1;33m\u001b[0m\u001b[1;33m\u001b[0m\u001b[0m\n\u001b[0m\u001b[0;32m     54\u001b[0m     \u001b[0mes\u001b[0m\u001b[1;33m.\u001b[0m\u001b[0mlogger\u001b[0m\u001b[1;33m.\u001b[0m\u001b[0madd\u001b[0m\u001b[1;33m(\u001b[0m\u001b[1;33m)\u001b[0m  \u001b[1;31m# write data to disc to be plotted\u001b[0m\u001b[1;33m\u001b[0m\u001b[1;33m\u001b[0m\u001b[0m\n\u001b[0;32m     55\u001b[0m     \u001b[0mes\u001b[0m\u001b[1;33m.\u001b[0m\u001b[0mdisp\u001b[0m\u001b[1;33m(\u001b[0m\u001b[1;33m)\u001b[0m\u001b[1;33m\u001b[0m\u001b[1;33m\u001b[0m\u001b[0m\n",
      "\u001b[1;32m<ipython-input-371-c89a2a40f2f8>\u001b[0m in \u001b[0;36m<listcomp>\u001b[1;34m(.0)\u001b[0m\n\u001b[0;32m     51\u001b[0m \u001b[1;32mwhile\u001b[0m \u001b[1;32mnot\u001b[0m \u001b[0mes\u001b[0m\u001b[1;33m.\u001b[0m\u001b[0mstop\u001b[0m\u001b[1;33m(\u001b[0m\u001b[1;33m)\u001b[0m\u001b[1;33m:\u001b[0m\u001b[1;33m\u001b[0m\u001b[1;33m\u001b[0m\u001b[0m\n\u001b[0;32m     52\u001b[0m     \u001b[0msolutions\u001b[0m \u001b[1;33m=\u001b[0m \u001b[0mes\u001b[0m\u001b[1;33m.\u001b[0m\u001b[0mask\u001b[0m\u001b[1;33m(\u001b[0m\u001b[1;33m)\u001b[0m\u001b[1;31m# ask for n policies\u001b[0m\u001b[1;33m\u001b[0m\u001b[1;33m\u001b[0m\u001b[0m\n\u001b[1;32m---> 53\u001b[1;33m     \u001b[0mes\u001b[0m\u001b[1;33m.\u001b[0m\u001b[0mtell\u001b[0m\u001b[1;33m(\u001b[0m\u001b[0msolutions\u001b[0m\u001b[1;33m,\u001b[0m\u001b[1;33m[\u001b[0m\u001b[1;33m-\u001b[0m\u001b[0mevaluationFunction2\u001b[0m\u001b[1;33m(\u001b[0m\u001b[0mx\u001b[0m\u001b[1;33m,\u001b[0m\u001b[1;36m10\u001b[0m\u001b[1;33m)\u001b[0m \u001b[1;32mfor\u001b[0m \u001b[0mx\u001b[0m \u001b[1;32min\u001b[0m \u001b[0msolutions\u001b[0m\u001b[1;33m]\u001b[0m\u001b[1;33m)\u001b[0m\u001b[1;33m\u001b[0m\u001b[1;33m\u001b[0m\u001b[0m\n\u001b[0m\u001b[0;32m     54\u001b[0m     \u001b[0mes\u001b[0m\u001b[1;33m.\u001b[0m\u001b[0mlogger\u001b[0m\u001b[1;33m.\u001b[0m\u001b[0madd\u001b[0m\u001b[1;33m(\u001b[0m\u001b[1;33m)\u001b[0m  \u001b[1;31m# write data to disc to be plotted\u001b[0m\u001b[1;33m\u001b[0m\u001b[1;33m\u001b[0m\u001b[0m\n\u001b[0;32m     55\u001b[0m     \u001b[0mes\u001b[0m\u001b[1;33m.\u001b[0m\u001b[0mdisp\u001b[0m\u001b[1;33m(\u001b[0m\u001b[1;33m)\u001b[0m\u001b[1;33m\u001b[0m\u001b[1;33m\u001b[0m\u001b[0m\n",
      "\u001b[1;32m<ipython-input-371-c89a2a40f2f8>\u001b[0m in \u001b[0;36mevaluationFunction2\u001b[1;34m(theta_p, numEpisodes)\u001b[0m\n\u001b[0;32m     34\u001b[0m \u001b[1;31m#             phi = generatephi(s)\u001b[0m\u001b[1;33m\u001b[0m\u001b[1;33m\u001b[0m\u001b[1;33m\u001b[0m\u001b[0m\n\u001b[0;32m     35\u001b[0m             \u001b[0mfb2\u001b[0m \u001b[1;33m=\u001b[0m \u001b[0mFourierBasis\u001b[0m\u001b[1;33m(\u001b[0m\u001b[0mlen\u001b[0m\u001b[1;33m(\u001b[0m\u001b[0ms\u001b[0m\u001b[1;33m)\u001b[0m\u001b[1;33m,\u001b[0m \u001b[1;36m1\u001b[0m\u001b[1;33m,\u001b[0m \u001b[1;36m1\u001b[0m\u001b[1;33m)\u001b[0m\u001b[1;33m\u001b[0m\u001b[1;33m\u001b[0m\u001b[0m\n\u001b[1;32m---> 36\u001b[1;33m             \u001b[0mphi\u001b[0m \u001b[1;33m=\u001b[0m \u001b[0mfb2\u001b[0m\u001b[1;33m.\u001b[0m\u001b[0mbasify\u001b[0m\u001b[1;33m(\u001b[0m\u001b[0ms\u001b[0m\u001b[1;33m)\u001b[0m\u001b[1;33m\u001b[0m\u001b[1;33m\u001b[0m\u001b[0m\n\u001b[0m\u001b[0;32m     37\u001b[0m \u001b[1;31m#             print(phi.shape)\u001b[0m\u001b[1;33m\u001b[0m\u001b[1;33m\u001b[0m\u001b[1;33m\u001b[0m\u001b[0m\n\u001b[0;32m     38\u001b[0m             \u001b[0mPsa\u001b[0m \u001b[1;33m=\u001b[0m \u001b[0mnp\u001b[0m\u001b[1;33m.\u001b[0m\u001b[0mdot\u001b[0m\u001b[1;33m(\u001b[0m\u001b[0mphi\u001b[0m\u001b[1;33m,\u001b[0m\u001b[0mtheta\u001b[0m\u001b[1;33m.\u001b[0m\u001b[0mT\u001b[0m\u001b[1;33m)\u001b[0m\u001b[1;33m\u001b[0m\u001b[1;33m\u001b[0m\u001b[0m\n",
      "\u001b[1;32m<ipython-input-192-823da4ecc010>\u001b[0m in \u001b[0;36mbasify\u001b[1;34m(self, x)\u001b[0m\n\u001b[0;32m     42\u001b[0m \u001b[1;31m#         print(\"c[i] x\")\u001b[0m\u001b[1;33m\u001b[0m\u001b[1;33m\u001b[0m\u001b[1;33m\u001b[0m\u001b[0m\n\u001b[0;32m     43\u001b[0m         \u001b[1;32mfor\u001b[0m \u001b[0mi\u001b[0m \u001b[1;32min\u001b[0m \u001b[0mrange\u001b[0m\u001b[1;33m(\u001b[0m\u001b[0mself\u001b[0m\u001b[1;33m.\u001b[0m\u001b[0mnTerms\u001b[0m\u001b[1;33m)\u001b[0m\u001b[1;33m:\u001b[0m\u001b[1;33m\u001b[0m\u001b[1;33m\u001b[0m\u001b[0m\n\u001b[1;32m---> 44\u001b[1;33m             \u001b[0mresult\u001b[0m\u001b[1;33m[\u001b[0m\u001b[0mi\u001b[0m\u001b[1;33m]\u001b[0m \u001b[1;33m=\u001b[0m \u001b[0mnp\u001b[0m\u001b[1;33m.\u001b[0m\u001b[0mcos\u001b[0m\u001b[1;33m(\u001b[0m\u001b[0mmath\u001b[0m\u001b[1;33m.\u001b[0m\u001b[0mpi\u001b[0m\u001b[1;33m*\u001b[0m \u001b[0mnp\u001b[0m\u001b[1;33m.\u001b[0m\u001b[0mdot\u001b[0m\u001b[1;33m(\u001b[0m\u001b[0mself\u001b[0m\u001b[1;33m.\u001b[0m\u001b[0mc\u001b[0m\u001b[1;33m[\u001b[0m\u001b[0mi\u001b[0m\u001b[1;33m]\u001b[0m\u001b[1;33m,\u001b[0m \u001b[0mx\u001b[0m\u001b[1;33m)\u001b[0m\u001b[1;33m)\u001b[0m\u001b[1;33m\u001b[0m\u001b[1;33m\u001b[0m\u001b[0m\n\u001b[0m\u001b[0;32m     45\u001b[0m \u001b[1;31m#             print(c[i],x)\u001b[0m\u001b[1;33m\u001b[0m\u001b[1;33m\u001b[0m\u001b[1;33m\u001b[0m\u001b[0m\n\u001b[0;32m     46\u001b[0m \u001b[1;31m#             print(np.dot(self.c[i], x))\u001b[0m\u001b[1;33m\u001b[0m\u001b[1;33m\u001b[0m\u001b[1;33m\u001b[0m\u001b[0m\n",
      "\u001b[1;31mKeyboardInterrupt\u001b[0m: "
     ]
    }
   ],
   "source": [
    "from rl687.environments.cartpole import Cartpole\n",
    "from rl687.policies.tabular_softmax import TabularSoftmax\n",
    "\n",
    "def generatephi(state):\n",
    "    ret = []\n",
    "    for i in range(3):\n",
    "        for j in range(3):\n",
    "            for m in range(3):\n",
    "                for n in range(3):\n",
    "                    ret.append((state[0]**i)*(state[1]**j)*(state[2]**m)*(state[3]**n))\n",
    "    print(len(ret))\n",
    "    return np.array(ret)\n",
    "\n",
    "\n",
    "def evaluationFunction2(theta_p,numEpisodes):\n",
    "    \"\"\"\n",
    "    evaluationFunction (function): evaluates the provided parameterized policy.\n",
    "    input: theta_p (numpy.ndarray, a parameterized policy), numEpisodes\n",
    "    output: the estimated return of the policy\n",
    "    \"\"\"\n",
    "\n",
    "    # init the gridworld\n",
    "    cartpole = Cartpole()\n",
    "    returns = np.zeros(numEpisodes)\n",
    "\n",
    "    theta = theta_p.reshape(2,-1) # divide to each function\n",
    "\n",
    "    for epoch in range(numEpisodes):\n",
    "        cartpole.reset()\n",
    "        step = 0\n",
    "        g = 0\n",
    "        s = [0.,0.,0.,0.]\n",
    "        while not cartpole.isEnd:\n",
    "#             phi = generatephi(s)\n",
    "            fb2 = FourierBasis(len(s), 1, 1)\n",
    "            phi = fb2.basify(s)\n",
    "#             print(phi.shape)\n",
    "            Psa = np.dot(phi,theta.T)\n",
    "            action = 0\n",
    "            if Psa[0]<Psa[1]:\n",
    "                action = 1\n",
    "            s, r, e = cartpole.step(action)\n",
    "            g += (cartpole.gamma ** step) * r\n",
    "            step += 1\n",
    "        returns[epoch] = g\n",
    "    return returns.mean()\n",
    "\n",
    "# test cma es for cartpole policy selection\n",
    "es = cma.CMAEvolutionStrategy(32*[0], 1)# start search from pi_b\n",
    "solutions = es.ask()\n",
    "while not es.stop():\n",
    "    solutions = es.ask()# ask for n policies\n",
    "    es.tell(solutions,[-evaluationFunction2(x,10) for x in solutions])\n",
    "    es.logger.add()  # write data to disc to be plotted\n",
    "    es.disp()\n",
    "es.result_pretty()\n",
    "cma.plot()  # shortcut for es.logger.plot()\n"
   ]
  },
  {
   "cell_type": "code",
   "execution_count": 447,
   "metadata": {
    "scrolled": true
   },
   "outputs": [
    {
     "name": "stdout",
     "output_type": "stream",
     "text": [
      "(7_w,14)-aCMA-ES (mu_w=4.3,w_1=36%) in dimension 32 (seed=937887, Sun Dec  8 18:52:48 2019)\n",
      "pi_B:  [array([ 0.24363752, -0.14390927,  0.84332666, -0.47572139,  0.06456879,\n",
      "        0.87708941, -0.06683234, -0.21082804, -0.39284918, -0.16003678,\n",
      "        0.07961018,  0.14746307, -0.24522744, -0.87519606, -0.48382108,\n",
      "       -1.13684922, -1.10414424, -1.61737124,  0.72357091, -0.14908046,\n",
      "       -0.50308299,  0.40835648, -0.79335409,  0.12484608,  0.61615095,\n",
      "        0.4685111 , -0.41179019,  1.8164374 , -0.444281  ,  0.96525957,\n",
      "        0.86404804,  0.33931639])]\n",
      "A: 13\n",
      "[[0.0, 0.0, 0.0, 0.0], array([ 0.        , -0.19512195,  0.        ,  0.29268293]), array([-0.00390244, -0.3902439 ,  0.00585366,  0.58536585]), array([-0.01170732, -0.58544736,  0.01756098,  0.87988698]), array([-0.02341626, -0.39056834,  0.03515872,  0.59277619]), array([-0.03122763, -0.58616436,  0.04701424,  0.89632344]), array([-0.04295092, -0.78189111,  0.06494071,  1.20340625]), array([-0.05858874, -0.58766605,  0.08900883,  0.93176192]), array([-0.07034206, -0.78386905,  0.10764407,  1.25103543]), array([-0.08601944, -0.98019302,  0.13266478,  1.57540317]), array([-0.1056233 , -1.17662357,  0.16417284,  1.90634904]), array([-0.12915577, -1.37309445,  0.20229982,  2.245143  ]), array([-0.15661766, -1.569471  ,  0.24720268,  2.59277209])]\n",
      "S: 13\n",
      "[0, 0, 0, 1, 0, 0, 1, 0, 0, 0, 0, 0, 0]\n",
      "R: 13\n",
      "[1.0, 1.0, 1.0, 1.0, 1.0, 1.0, 1.0, 1.0, 1.0, 1.0, 1.0, 1.0, 1.0]\n",
      "13.0\n"
     ]
    }
   ],
   "source": [
    "# generate random episodes with behavior policy\n",
    "def GenerateCartpoleData(theta_p):\n",
    "    cartpole = Cartpole()\n",
    "    theta = theta_p.reshape(2,-1) # divide to each function\n",
    "    cartpole.reset()\n",
    "    step = 0\n",
    "    g = 0\n",
    "    s = [0.,0.,0.,0.]\n",
    "    S = []\n",
    "    A = []\n",
    "    R = []\n",
    "    S.append(s)\n",
    "    while not cartpole.isEnd:\n",
    "        fb2 = FourierBasis(len(s), 1, 1)\n",
    "        phi = fb2.basify(s)\n",
    "#         print(theta.shape)\n",
    "        Psa = np.dot(phi,theta.T)\n",
    "        action = 0\n",
    "        if Psa[0]<Psa[1]:\n",
    "            action = 1\n",
    "        s, r, e = cartpole.step(action)\n",
    "        A.append(int(action))\n",
    "        S.append(s)\n",
    "        R.append(r)\n",
    "#         g += (cartpole.gamma ** step) * r\n",
    "        step += 1\n",
    "    return S[0:-1],A,R\n",
    "es = cma.CMAEvolutionStrategy(32*[0], 1)# start search from pi_b\n",
    "new_theta_b = np.array(es.ask(1))\n",
    "print(\"pi_B: \",new_pi_b)\n",
    "A,S,R = GenerateCartpoleData(new_theta_b)\n",
    "print(\"A:\",len(A))\n",
    "print(A)\n",
    "print(\"S:\",len(S))\n",
    "print(S)\n",
    "print(\"R:\",len(R))\n",
    "print(R)\n",
    "Rett[i] = evaluationFunction2(new_theta_b ,100)\n",
    "print(Rett[i])"
   ]
  },
  {
   "cell_type": "code",
   "execution_count": null,
   "metadata": {},
   "outputs": [
    {
     "name": "stdout",
     "output_type": "stream",
     "text": [
      "sigma:  1.0\n",
      "new theta b:  [[ 1.11610782  0.17788542  1.759439    1.54192449  1.43201561  0.34267535\n",
      "  -0.99189807 -0.3078187   1.25281369 -0.44617537 -0.66105997  1.75980586\n",
      "   0.01175537  0.65542231  0.00566188 -1.57512389  0.95886015 -0.00609367\n",
      "  -1.28320575  1.37199953  0.99178906  0.70993359  1.09421606 -0.43439226\n",
      "  -1.89786773  1.64687289  0.3919031  -2.39780948  1.30503015  0.04460857\n",
      "   0.69014173  0.52701555]]\n",
      "(7_w,14)-aCMA-ES (mu_w=4.3,w_1=36%) in dimension 32 (seed=971463, Sun Dec  8 20:28:39 2019)\n",
      "bad!\n",
      "bad!\n",
      "bad!\n",
      "bad!\n",
      "bad!\n",
      "bad!\n",
      "bad!\n",
      "bad!\n",
      "bad!\n",
      "bad!\n",
      "bad!\n",
      "Iterat #Fevals   function value  axis ratio  sigma  min&max std  t[m:s]\n",
      "    1     14 -1.337361598506507e+01 1.0e+00 9.41e-01  9e-01  9e-01 0:37.7\n",
      "bad!\n",
      "bad!\n",
      "bad!\n",
      "bad!\n",
      "bad!\n",
      "bad!\n",
      "bad!\n",
      "    2     28 -2.585532291266901e+01 1.1e+00 9.00e-01  9e-01  9e-01 1:15.2\n",
      "bad!\n",
      "bad!\n",
      "bad!\n",
      "bad!\n",
      "bad!\n",
      "bad!\n",
      "bad!\n",
      "bad!\n",
      "    3     42 -7.047079447058252e+01 1.1e+00 8.78e-01  9e-01  9e-01 1:54.4\n",
      "bad!\n",
      "bad!\n",
      "bad!\n",
      "bad!\n",
      "bad!\n",
      "    4     56 -5.393738481877759e+01 1.1e+00 8.69e-01  9e-01  9e-01 2:34.7\n",
      "bad!\n",
      "bad!\n",
      "bad!\n",
      "bad!\n",
      "    5     70 -3.161292217910887e+01 1.1e+00 8.63e-01  8e-01  9e-01 3:10.9\n",
      "bad!\n",
      "    6     84 -6.028198058294774e+01 1.1e+00 8.67e-01  8e-01  9e-01 3:45.9\n",
      "bad!\n",
      "bad!\n",
      "bad!\n",
      "bad!\n",
      "bad!\n",
      "    7     98 -4.715525218443976e+01 1.2e+00 8.70e-01  9e-01  9e-01 4:21.2\n",
      "bad!\n",
      "bad!\n",
      "bad!\n",
      "bad!\n",
      "bad!\n",
      "bad!\n",
      "bad!\n",
      "    8    112 -5.057336723912044e+01 1.2e+00 8.78e-01  9e-01  9e-01 4:56.2\n",
      "bad!\n",
      "bad!\n",
      "bad!\n",
      "bad!\n",
      "    9    126 -2.795995967059827e+01 1.2e+00 8.86e-01  9e-01  9e-01 5:31.2\n",
      "bad!\n",
      "bad!\n",
      "   10    140 -1.004367151397889e+02 1.2e+00 9.00e-01  9e-01  9e-01 6:06.2\n",
      "bad!\n",
      "bad!\n",
      "bad!\n",
      "bad!\n",
      "   11    154 -1.066686023187054e+02 1.3e+00 9.19e-01  9e-01  9e-01 6:41.3\n",
      "   12    168 -1.364422530368900e+02 1.3e+00 9.57e-01  9e-01  1e+00 7:16.3\n",
      "bad!\n",
      "   13    182 -6.008404176784052e+01 1.4e+00 9.92e-01  1e+00  1e+00 7:51.3\n",
      "bad!\n",
      "bad!\n",
      "bad!\n",
      "bad!\n",
      "   14    196 -6.483370962911589e+01 1.4e+00 1.02e+00  1e+00  1e+00 8:26.2\n",
      "bad!\n"
     ]
    }
   ],
   "source": [
    "\n",
    "def calculate_PDIS_H(theta_e,theta_b,S,A,R,fb):\n",
    "    pie_pib = 1.0\n",
    "    ret = 0.0\n",
    "    for (s, a, r) in zip(S, A, R): \n",
    "#         print(\"r\",r)\n",
    "        up = calculate_pi(s,a,fb,theta_e.reshape(2,-1))\n",
    "        down = calculate_pi(s,a,fb,theta_b.reshape(2,-1))\n",
    "        pie_pib = pie_pib*(up/down)\n",
    "        ret+=pie_pib*r\n",
    "    return ret\n",
    "# print(calculate_PDIS_H(np.array(es.ask(1)).reshape(2,2),thetab,Episodes[10],fb))\n",
    "\n",
    "def calculate_PDIS_D(thetae,theta_b,fb):\n",
    "    ret = []\n",
    "    for i in range(1000):\n",
    "        S,A,R = GenerateCartpoleData(theta_b)\n",
    "#         print()\n",
    "        ret.append(calculate_PDIS_H(thetae,theta_b,S,A,R,fb))\n",
    "    return np.mean(np.array(ret)),np.std(np.array(ret), ddof=1)\n",
    "# print(calculate_PDIS_D(D_c,np.array(es.ask(1)).reshape(2,2),thetab,fb))\n",
    "\n",
    "\n",
    "sigma = 1.0#2.0*(new_theta_b.dot(new_theta_b.T) + 1.0).reshape(-1)# sigma not sure\n",
    "print(\"sigma: \",sigma)\n",
    "print(\"new theta b: \",new_theta_b)\n",
    "es = cma.CMAEvolutionStrategy(new_theta_b, sigma)# start search from pi_b\n",
    "delta = 0.1\n",
    "c = 5\n",
    "min1 = 10000\n",
    "D_s_size = 1000\n",
    "fb2 = FourierBasis(4, 1, 1)\n",
    "while not es.stop():\n",
    "    solutions = es.ask()# ask for n policies\n",
    "    tell = []\n",
    "    for x in solutions:\n",
    "        pred,sig = calculate_PDIS_D(np.array(x),new_theta_b,fb2)\n",
    "        if pred<min1:\n",
    "            min1 = pred\n",
    "        t_test = pred-2*sig/np.sqrt(D_s_size)*scipy.stats.t.ppf(1-delta,D_s_size-1)\n",
    "#         print(c)\n",
    "        if np.isnan(t_test):\n",
    "            print(\"???\")\n",
    "        if t_test <c or np.isnan(t_test):\n",
    "            print(\"bad!\")\n",
    "            pred = -100000-pred\n",
    "        pred = -pred\n",
    "        tell.append(pred)\n",
    "    es.tell(solutions,tell)\n",
    "#     es.tell(solutions,[-calculate_PDIS_D(D_c[:100],np.array(x).reshape(2,2),thetab,fb)[0] for x in solutions])\n",
    "    es.logger.add()  # write data to disc to be plotted\n",
    "    es.disp()\n",
    "es.result_pretty()\n",
    "cma.plot()  # shortcut for es.logger.plot()\n",
    "print(\"min:\",min1)"
   ]
  },
  {
   "cell_type": "code",
   "execution_count": 455,
   "metadata": {},
   "outputs": [
    {
     "name": "stdout",
     "output_type": "stream",
     "text": [
      "4.544412622178554\n",
      "20.952842692947733\n"
     ]
    },
    {
     "ename": "KeyboardInterrupt",
     "evalue": "",
     "output_type": "error",
     "traceback": [
      "\u001b[1;31m---------------------------------------------------------------------------\u001b[0m",
      "\u001b[1;31mKeyboardInterrupt\u001b[0m                         Traceback (most recent call last)",
      "\u001b[1;32m<ipython-input-455-60890ebf4add>\u001b[0m in \u001b[0;36m<module>\u001b[1;34m\u001b[0m\n\u001b[0;32m      3\u001b[0m \u001b[0mfinal_solutions\u001b[0m \u001b[1;33m=\u001b[0m \u001b[1;33m[\u001b[0m\u001b[1;33m]\u001b[0m\u001b[1;33m\u001b[0m\u001b[1;33m\u001b[0m\u001b[0m\n\u001b[0;32m      4\u001b[0m \u001b[1;32mfor\u001b[0m \u001b[0ms\u001b[0m \u001b[1;32min\u001b[0m \u001b[0msolutions\u001b[0m\u001b[1;33m:\u001b[0m\u001b[1;33m\u001b[0m\u001b[1;33m\u001b[0m\u001b[0m\n\u001b[1;32m----> 5\u001b[1;33m     \u001b[0mpred\u001b[0m\u001b[1;33m,\u001b[0m\u001b[0msig\u001b[0m \u001b[1;33m=\u001b[0m \u001b[0mcalculate_PDIS_D\u001b[0m\u001b[1;33m(\u001b[0m\u001b[0mnp\u001b[0m\u001b[1;33m.\u001b[0m\u001b[0marray\u001b[0m\u001b[1;33m(\u001b[0m\u001b[0ms\u001b[0m\u001b[1;33m)\u001b[0m\u001b[1;33m,\u001b[0m\u001b[0mnew_theta_b\u001b[0m\u001b[1;33m,\u001b[0m\u001b[0mfb2\u001b[0m\u001b[1;33m)\u001b[0m\u001b[1;33m\u001b[0m\u001b[1;33m\u001b[0m\u001b[0m\n\u001b[0m\u001b[0;32m      6\u001b[0m     \u001b[0mprint\u001b[0m\u001b[1;33m(\u001b[0m\u001b[0mpred\u001b[0m\u001b[1;33m)\u001b[0m\u001b[1;33m\u001b[0m\u001b[1;33m\u001b[0m\u001b[0m\n\u001b[0;32m      7\u001b[0m     \u001b[0msafety\u001b[0m \u001b[1;33m=\u001b[0m \u001b[0mpred\u001b[0m \u001b[1;33m-\u001b[0m \u001b[0msig\u001b[0m\u001b[1;33m/\u001b[0m\u001b[0mnp\u001b[0m\u001b[1;33m.\u001b[0m\u001b[0msqrt\u001b[0m\u001b[1;33m(\u001b[0m\u001b[0mD_s_size\u001b[0m\u001b[1;33m)\u001b[0m\u001b[1;33m*\u001b[0m\u001b[0mscipy\u001b[0m\u001b[1;33m.\u001b[0m\u001b[0mstats\u001b[0m\u001b[1;33m.\u001b[0m\u001b[0mt\u001b[0m\u001b[1;33m.\u001b[0m\u001b[0mppf\u001b[0m\u001b[1;33m(\u001b[0m\u001b[1;36m1\u001b[0m\u001b[1;33m-\u001b[0m\u001b[0mdelta\u001b[0m\u001b[1;33m,\u001b[0m\u001b[0mD_s_size\u001b[0m\u001b[1;33m-\u001b[0m\u001b[1;36m1\u001b[0m\u001b[1;33m)\u001b[0m\u001b[1;33m\u001b[0m\u001b[1;33m\u001b[0m\u001b[0m\n",
      "\u001b[1;32m<ipython-input-448-85d72527ca91>\u001b[0m in \u001b[0;36mcalculate_PDIS_D\u001b[1;34m(thetae, theta_b, fb)\u001b[0m\n\u001b[0;32m     14\u001b[0m     \u001b[0mret\u001b[0m \u001b[1;33m=\u001b[0m \u001b[1;33m[\u001b[0m\u001b[1;33m]\u001b[0m\u001b[1;33m\u001b[0m\u001b[1;33m\u001b[0m\u001b[0m\n\u001b[0;32m     15\u001b[0m     \u001b[1;32mfor\u001b[0m \u001b[0mi\u001b[0m \u001b[1;32min\u001b[0m \u001b[0mrange\u001b[0m\u001b[1;33m(\u001b[0m\u001b[1;36m1000\u001b[0m\u001b[1;33m)\u001b[0m\u001b[1;33m:\u001b[0m\u001b[1;33m\u001b[0m\u001b[1;33m\u001b[0m\u001b[0m\n\u001b[1;32m---> 16\u001b[1;33m         \u001b[0mS\u001b[0m\u001b[1;33m,\u001b[0m\u001b[0mA\u001b[0m\u001b[1;33m,\u001b[0m\u001b[0mR\u001b[0m \u001b[1;33m=\u001b[0m \u001b[0mGenerateCartpoleData\u001b[0m\u001b[1;33m(\u001b[0m\u001b[0mtheta_b\u001b[0m\u001b[1;33m)\u001b[0m\u001b[1;33m\u001b[0m\u001b[1;33m\u001b[0m\u001b[0m\n\u001b[0m\u001b[0;32m     17\u001b[0m \u001b[1;31m#         print()\u001b[0m\u001b[1;33m\u001b[0m\u001b[1;33m\u001b[0m\u001b[1;33m\u001b[0m\u001b[0m\n\u001b[0;32m     18\u001b[0m         \u001b[0mret\u001b[0m\u001b[1;33m.\u001b[0m\u001b[0mappend\u001b[0m\u001b[1;33m(\u001b[0m\u001b[0mcalculate_PDIS_H\u001b[0m\u001b[1;33m(\u001b[0m\u001b[0mthetae\u001b[0m\u001b[1;33m,\u001b[0m\u001b[0mtheta_b\u001b[0m\u001b[1;33m,\u001b[0m\u001b[0mS\u001b[0m\u001b[1;33m,\u001b[0m\u001b[0mA\u001b[0m\u001b[1;33m,\u001b[0m\u001b[0mR\u001b[0m\u001b[1;33m,\u001b[0m\u001b[0mfb\u001b[0m\u001b[1;33m)\u001b[0m\u001b[1;33m)\u001b[0m\u001b[1;33m\u001b[0m\u001b[1;33m\u001b[0m\u001b[0m\n",
      "\u001b[1;32m<ipython-input-447-4bc91fdd273b>\u001b[0m in \u001b[0;36mGenerateCartpoleData\u001b[1;34m(theta_p)\u001b[0m\n\u001b[0;32m     12\u001b[0m     \u001b[1;32mwhile\u001b[0m \u001b[1;32mnot\u001b[0m \u001b[0mcartpole\u001b[0m\u001b[1;33m.\u001b[0m\u001b[0misEnd\u001b[0m\u001b[1;33m:\u001b[0m\u001b[1;33m\u001b[0m\u001b[1;33m\u001b[0m\u001b[0m\n\u001b[0;32m     13\u001b[0m         \u001b[0mfb2\u001b[0m \u001b[1;33m=\u001b[0m \u001b[0mFourierBasis\u001b[0m\u001b[1;33m(\u001b[0m\u001b[0mlen\u001b[0m\u001b[1;33m(\u001b[0m\u001b[0ms\u001b[0m\u001b[1;33m)\u001b[0m\u001b[1;33m,\u001b[0m \u001b[1;36m1\u001b[0m\u001b[1;33m,\u001b[0m \u001b[1;36m1\u001b[0m\u001b[1;33m)\u001b[0m\u001b[1;33m\u001b[0m\u001b[1;33m\u001b[0m\u001b[0m\n\u001b[1;32m---> 14\u001b[1;33m         \u001b[0mphi\u001b[0m \u001b[1;33m=\u001b[0m \u001b[0mfb2\u001b[0m\u001b[1;33m.\u001b[0m\u001b[0mbasify\u001b[0m\u001b[1;33m(\u001b[0m\u001b[0ms\u001b[0m\u001b[1;33m)\u001b[0m\u001b[1;33m\u001b[0m\u001b[1;33m\u001b[0m\u001b[0m\n\u001b[0m\u001b[0;32m     15\u001b[0m \u001b[1;31m#         print(theta.shape)\u001b[0m\u001b[1;33m\u001b[0m\u001b[1;33m\u001b[0m\u001b[1;33m\u001b[0m\u001b[0m\n\u001b[0;32m     16\u001b[0m         \u001b[0mPsa\u001b[0m \u001b[1;33m=\u001b[0m \u001b[0mnp\u001b[0m\u001b[1;33m.\u001b[0m\u001b[0mdot\u001b[0m\u001b[1;33m(\u001b[0m\u001b[0mphi\u001b[0m\u001b[1;33m,\u001b[0m\u001b[0mtheta\u001b[0m\u001b[1;33m.\u001b[0m\u001b[0mT\u001b[0m\u001b[1;33m)\u001b[0m\u001b[1;33m\u001b[0m\u001b[1;33m\u001b[0m\u001b[0m\n",
      "\u001b[1;32m<ipython-input-192-823da4ecc010>\u001b[0m in \u001b[0;36mbasify\u001b[1;34m(self, x)\u001b[0m\n\u001b[0;32m     42\u001b[0m \u001b[1;31m#         print(\"c[i] x\")\u001b[0m\u001b[1;33m\u001b[0m\u001b[1;33m\u001b[0m\u001b[1;33m\u001b[0m\u001b[0m\n\u001b[0;32m     43\u001b[0m         \u001b[1;32mfor\u001b[0m \u001b[0mi\u001b[0m \u001b[1;32min\u001b[0m \u001b[0mrange\u001b[0m\u001b[1;33m(\u001b[0m\u001b[0mself\u001b[0m\u001b[1;33m.\u001b[0m\u001b[0mnTerms\u001b[0m\u001b[1;33m)\u001b[0m\u001b[1;33m:\u001b[0m\u001b[1;33m\u001b[0m\u001b[1;33m\u001b[0m\u001b[0m\n\u001b[1;32m---> 44\u001b[1;33m             \u001b[0mresult\u001b[0m\u001b[1;33m[\u001b[0m\u001b[0mi\u001b[0m\u001b[1;33m]\u001b[0m \u001b[1;33m=\u001b[0m \u001b[0mnp\u001b[0m\u001b[1;33m.\u001b[0m\u001b[0mcos\u001b[0m\u001b[1;33m(\u001b[0m\u001b[0mmath\u001b[0m\u001b[1;33m.\u001b[0m\u001b[0mpi\u001b[0m\u001b[1;33m*\u001b[0m \u001b[0mnp\u001b[0m\u001b[1;33m.\u001b[0m\u001b[0mdot\u001b[0m\u001b[1;33m(\u001b[0m\u001b[0mself\u001b[0m\u001b[1;33m.\u001b[0m\u001b[0mc\u001b[0m\u001b[1;33m[\u001b[0m\u001b[0mi\u001b[0m\u001b[1;33m]\u001b[0m\u001b[1;33m,\u001b[0m \u001b[0mx\u001b[0m\u001b[1;33m)\u001b[0m\u001b[1;33m)\u001b[0m\u001b[1;33m\u001b[0m\u001b[1;33m\u001b[0m\u001b[0m\n\u001b[0m\u001b[0;32m     45\u001b[0m \u001b[1;31m#             print(c[i],x)\u001b[0m\u001b[1;33m\u001b[0m\u001b[1;33m\u001b[0m\u001b[1;33m\u001b[0m\u001b[0m\n\u001b[0;32m     46\u001b[0m \u001b[1;31m#             print(np.dot(self.c[i], x))\u001b[0m\u001b[1;33m\u001b[0m\u001b[1;33m\u001b[0m\u001b[1;33m\u001b[0m\u001b[0m\n",
      "\u001b[1;31mKeyboardInterrupt\u001b[0m: "
     ]
    }
   ],
   "source": [
    "# run safety test\n",
    "solutions = es.ask(1000)\n",
    "final_solutions = []\n",
    "for s in solutions:\n",
    "    pred,sig = calculate_PDIS_D(np.array(s),new_theta_b,fb2)\n",
    "    print(pred)\n",
    "    safety = pred - sig/np.sqrt(D_s_size)*scipy.stats.t.ppf(1-delta,D_s_size-1)\n",
    "    if safety>=c:\n",
    "        final_solutions.append(s)\n",
    "    if(len(final_solutions)>100):\n",
    "        break\n",
    "print(len(final_solutions))\n",
    "print(final_solutions)\n",
    "\n",
    "final_solutions = np.array(final_solutions)\n",
    "# Rett = np.zeros(100)\n",
    "# solutions = np.array(es.ask(100))\n",
    "for i in range(100):\n",
    "    Rett[i] = evaluationFunction2(final_solutions[i] ,100)\n",
    "    print(Rett[i])\n",
    "print((Rett>evaluationFunction2(new_theta_b ,100)).sum())\n"
   ]
  },
  {
   "cell_type": "code",
   "execution_count": null,
   "metadata": {},
   "outputs": [],
   "source": []
  }
 ],
 "metadata": {
  "kernelspec": {
   "display_name": "Python 3",
   "language": "python",
   "name": "python3"
  },
  "language_info": {
   "codemirror_mode": {
    "name": "ipython",
    "version": 3
   },
   "file_extension": ".py",
   "mimetype": "text/x-python",
   "name": "python",
   "nbconvert_exporter": "python",
   "pygments_lexer": "ipython3",
   "version": "3.7.4"
  }
 },
 "nbformat": 4,
 "nbformat_minor": 2
}

{
 "cells": [
  {
   "cell_type": "code",
   "execution_count": 1,
   "metadata": {},
   "outputs": [],
   "source": [
    "import numpy as np\n",
    "import matplotlib.pyplot as plt\n",
    "from numpy import random\n",
    "import itertools\n",
    "import math\n",
    "import cma\n",
    "import scipy\n",
    "from scipy import stats"
   ]
  },
  {
   "cell_type": "markdown",
   "metadata": {},
   "source": [
    "## Import dataset"
   ]
  },
  {
   "cell_type": "code",
   "execution_count": 2,
   "metadata": {},
   "outputs": [
    {
     "data": {
      "text/plain": [
       "200006"
      ]
     },
     "execution_count": 2,
     "metadata": {},
     "output_type": "execute_result"
    }
   ],
   "source": [
    "Data = []\n",
    "with open(\"data.csv\") as f:\n",
    "    tmp = [line.split() for line in f]        # create a list of lists\n",
    "    for i, x in enumerate(tmp):              #print the list items \n",
    "        Data.append(x[0].split(','))\n",
    "# Data[3]\n",
    "len(Data)"
   ]
  },
  {
   "cell_type": "markdown",
   "metadata": {},
   "source": [
    "## Assign value"
   ]
  },
  {
   "cell_type": "code",
   "execution_count": 3,
   "metadata": {
    "scrolled": true
   },
   "outputs": [
    {
     "name": "stdout",
     "output_type": "stream",
     "text": [
      "Number of state features: 1\n",
      "Number of discrete actions: 2\n",
      "Fourier basis order: 1\n",
      "Parameters of the policy:[[ 0.01 -0.01]\n",
      " [ 1.    1.  ]]\n",
      "Number of episodes:200000\n",
      "10 example episodes:\n",
      " [array([ 0.419908 ,  1.       ,  0.992628 ,  0.366283 ,  0.       ,\n",
      "       10.       ,  0.0622811,  1.       ,  2.98566  ,  0.327772 ,\n",
      "        1.       ,  1.69524  ,  0.612293 ,  0.       ,  6.10134  ])\n",
      " array([ 0.452796,  1.      , -2.49912 ,  0.526937,  1.      ,  7.42631 ,\n",
      "        0.335302,  1.      ,  7.42853 ])\n",
      " array([ 0.536244,  1.      , -3.91362 ,  0.522716,  1.      ,  1.51771 ,\n",
      "        0.40803 ,  1.      , -1.25238 ])\n",
      " array([ 0.594378,  1.      ,  0.023878,  0.610604,  1.      , -1.20107 ,\n",
      "        0.530918,  0.      ,  4.92925 ,  0.588444,  1.      , -3.52819 ,\n",
      "        0.479734,  1.      , -2.66537 ])\n",
      " array([ 0.574179,  1.      , -0.366696,  0.407571,  1.      , -0.199698,\n",
      "        0.459103,  1.      , -3.85923 ,  0.54211 ,  0.      , -2.21454 ,\n",
      "        0.471514,  1.      , -0.276811])\n",
      " array([ 0.472578,  1.      ,  2.19059 ,  0.50435 ,  0.      ,  1.83383 ,\n",
      "        0.471016,  0.      , -2.01866 ,  0.282762,  0.      ,  1.03459 ,\n",
      "        0.530663,  1.      ,  1.45599 ])\n",
      " array([ 0.460504,  1.      ,  3.43955 ,  0.424954,  1.      ,  0.73955 ,\n",
      "        0.523021,  1.      , -4.11871 ,  0.722216,  0.      ,  1.661   ,\n",
      "        0.55201 ,  0.      ,  0.70158 ])\n",
      " array([ 0.562612,  1.      ,  4.72079 ,  0.577186,  0.      , 10.      ,\n",
      "        0.345011,  1.      ,  1.28192 ,  0.405653,  1.      , -0.335965,\n",
      "        0.514811,  0.      ,  1.59005 ])\n",
      " array([ 5.22875e-01,  1.00000e+00,  1.12036e-03,  5.80827e-01,\n",
      "        1.00000e+00,  5.19355e+00,  6.42636e-01,  1.00000e+00,\n",
      "       -1.85142e+00])\n",
      " array([ 0.480104,  0.      , -3.62774 ,  0.627373,  0.      ,  0.240232,\n",
      "        0.548229,  1.      , -0.294515,  0.251275,  1.      ,  5.9702  ,\n",
      "        0.616468,  1.      , -3.10717 ])]\n",
      "First Episode:  [0.775818 0.197512 0.878759 0.819091 0.345012]\n"
     ]
    }
   ],
   "source": [
    "m = int(Data[0][0])\n",
    "A = int(Data[1][0])\n",
    "k = int(Data[2][0])\n",
    "thetab = np.array(Data[3]).astype(np.float).reshape(2,2)\n",
    "n = int(Data[4][0])\n",
    "Episodes = []\n",
    "for i in range(n):\n",
    "    Episodes.append(np.array(Data[i+5]).astype(np.float))\n",
    "Episodes = np.array(Episodes)\n",
    "FirstEp = np.array(Data[200005]).astype(np.float)\n",
    "print(\"Number of state features: %d\\nNumber of discrete actions: %d\\nFourier basis order: %d\\nParameters of the policy:%s\\nNumber of episodes:%d\"%(m,A,k,np.array2string(thetab),n))\n",
    "print(\"10 example episodes:\\n\", Episodes[:10])\n",
    "print(\"First Episode: \",FirstEp)"
   ]
  },
  {
   "cell_type": "markdown",
   "metadata": {},
   "source": [
    "## Process\n",
    "\n",
    "1. split Dataset $D$ into $D_c$ and $D_s$\n",
    "2. Use $D_c$ to select $\\theta c$ according to \n",
    "$$\\theta_c\\in \\mathop {argmax}_{\\theta} PDIS(D_c,\\theta,\\pi_b)$$\n",
    "3. Next, run the safety test. That is, if \n",
    "$$PDIS(D_s,\\theta,\\pi_b)-\\frac{\\hat{\\sigma}_s}{\\sqrt{|D_s|}}t_{1-\\delta,|D_s|-1}\\geq c$$\n",
    "holds, return $\\theta c$, and otherwise return NSF."
   ]
  },
  {
   "cell_type": "code",
   "execution_count": 4,
   "metadata": {},
   "outputs": [
    {
     "data": {
      "text/plain": [
       "((120000,), (80000,))"
      ]
     },
     "execution_count": 4,
     "metadata": {},
     "output_type": "execute_result"
    }
   ],
   "source": [
    "# split dataset\n",
    "D_c = Episodes[:120000]\n",
    "D_s = Episodes[120000:]\n",
    "D_c.shape, D_s.shape\n",
    "# print(D_c[0])\n",
    "# print(D_s[0])"
   ]
  },
  {
   "cell_type": "code",
   "execution_count": 5,
   "metadata": {},
   "outputs": [],
   "source": [
    "# calculate pi_b\n",
    "pi_b = np.zeros((m,A))\n",
    "\n",
    "c = [list(i) for i in itertools.product(range(k), repeat=4)] # k is dorder"
   ]
  },
  {
   "cell_type": "code",
   "execution_count": 6,
   "metadata": {},
   "outputs": [
    {
     "name": "stdout",
     "output_type": "stream",
     "text": [
      "[1.         0.24896982]\n"
     ]
    }
   ],
   "source": [
    "# define FourierBasis\n",
    "\n",
    "class FourierBasis:\n",
    "    def __init__(self, inputDimension, iOrder, dOrder):\n",
    "        self.inputDimension = inputDimension\n",
    "        iTerms = iOrder*inputDimension;#Number of independent terms\n",
    "        dTerms = int(math.pow(dOrder + 1, inputDimension))# Number of dependent terms\n",
    "        oTerms = min(iOrder, dOrder)*inputDimension # Overlap of iTerms and dTerms\n",
    "        self.nTerms = iTerms + dTerms - oTerms\n",
    "#         print(iTerms,dTerms,oTerms,self.nTerms)\n",
    "        counter = np.zeros(inputDimension)\n",
    "        self.c = np.zeros((self.nTerms, inputDimension))\n",
    "        termCount = 0;\n",
    "        while termCount<dTerms:\n",
    "            self.c[termCount] = counter\n",
    "            self.incrementCounter(counter, dOrder)\n",
    "            termCount+=1\n",
    "\n",
    "        for i in range(inputDimension):# Add the independent terms\n",
    "            j = dOrder+1\n",
    "\n",
    "            while  j <= iOrder:\n",
    "#                 print(\"================\")\n",
    "                self.c[termCount][i] = double(j)\n",
    "                termCount+=1\n",
    "                j+=1\n",
    "#                 print(j)\n",
    "#         print(self.c,self.c.shape)\n",
    "\n",
    "    def getNumOutputs(self):\n",
    "        return self.nTerms\n",
    "    \n",
    "    def incrementCounter(self,buff, maxDigit):\n",
    "        for i in range(buff.shape[0]):\n",
    "            buff[i]+=1\n",
    "            if buff[i] <= maxDigit:\n",
    "                break\n",
    "            buff[i] = 0\n",
    "\n",
    "    def basify(self, x):\n",
    "        result = np.zeros(self.nTerms)\n",
    "#         print(\"c[i] x\")\n",
    "        for i in range(self.nTerms):\n",
    "            result[i] = np.cos(math.pi* np.dot(self.c[i], x))\n",
    "#             print(c[i],x)\n",
    "#             print(np.dot(self.c[i], x))\n",
    "        return result\n",
    "\n",
    "# fb = FourierBasis(4, 2, 3)\n",
    "# s = np.array([0.32,0.23,1.3,-5.0])\n",
    "# phi = fb.basify(s)\n",
    "# print(phi)\n",
    "fb = FourierBasis(m, 1, k)\n",
    "s = np.array([0.419908])\n",
    "phi = fb.basify(s)\n",
    "print(phi)"
   ]
  },
  {
   "cell_type": "code",
   "execution_count": 7,
   "metadata": {},
   "outputs": [
    {
     "name": "stdout",
     "output_type": "stream",
     "text": [
      "0.7758179628829157\n",
      "0.19751227246411232\n",
      "0.8787587888894525\n",
      "0.8190914628552088\n",
      "0.34501192170711364\n"
     ]
    }
   ],
   "source": [
    "# define function to calculate pi_b\n",
    "fb = FourierBasis(m, k, k)\n",
    "def calculate_pi(s,a,fb,theta):\n",
    "    phi = fb.basify(s) #2*1\n",
    "    up = np.exp(phi.dot(theta[a]))\n",
    "    down = np.sum(np.exp(phi.dot(theta.T)))\n",
    "    return up/down\n",
    "for i in range(len(Episodes[0])):\n",
    "    if i%3==0:\n",
    "        print(calculate_pi(np.array([Episodes[0][i]]),int(Episodes[0][i+1]),fb,thetab))"
   ]
  },
  {
   "cell_type": "code",
   "execution_count": 8,
   "metadata": {},
   "outputs": [
    {
     "name": "stdout",
     "output_type": "stream",
     "text": [
      "(4_w,8)-aCMA-ES (mu_w=2.6,w_1=52%) in dimension 4 (seed=242382, Wed Dec 11 17:05:44 2019)\n",
      "Iterat #Fevals   function value  axis ratio  sigma  min&max std  t[m:s]\n",
      "    1      8 2.503739675634056e+01 1.0e+00 4.31e-01  4e-01  4e-01 0:00.0\n",
      "    2     16 1.441929574711749e+01 1.3e+00 3.97e-01  3e-01  4e-01 0:00.0\n",
      "    3     24 1.401923563121233e+01 1.5e+00 4.48e-01  4e-01  5e-01 0:00.0\n",
      "  100    800 2.366528571564528e-03 5.5e+01 1.17e-01  1e-02  7e-02 0:00.2\n",
      "  187   1496 2.032982053172549e-15 5.0e+01 4.42e-06  8e-09  6e-08 0:00.4\n",
      "termination on tolfun=1e-11\n",
      "final/bestever f-value = 2.032982e-15 2.032982e-15\n",
      "incumbent solution: [0.999999989874225, 0.9999999843977871, 0.9999999706925126, 0.9999999413703782]\n",
      "std deviation: [8.41379341006891e-09, 1.5093837128346645e-08, 2.987154725795497e-08, 5.913865447311764e-08]\n"
     ]
    },
    {
     "data": {
      "image/png": "[encoded data removed]",
      "text/plain": [
       "<Figure size 432x288 with 4 Axes>"
      ]
     },
     "metadata": {
      "needs_background": "light"
     },
     "output_type": "display_data"
    },
    {
     "data": {
      "text/plain": [
       "<cma.logger.CMADataLogger at 0x13d7ecee588>"
      ]
     },
     "execution_count": 8,
     "metadata": {},
     "output_type": "execute_result"
    }
   ],
   "source": [
    "# create random policies\n",
    "# this part can skip, it's testing cma es.\n",
    "es = cma.CMAEvolutionStrategy(4 * [0], 0.5)\n",
    "solutions = es.ask()\n",
    "solutions\n",
    "while not es.stop():\n",
    "    solutions = es.ask()# ask for n policies\n",
    "    es.tell(solutions,[cma.ff.rosen(x) for x in solutions])\n",
    "    es.logger.add()  # write data to disc to be plotted\n",
    "    es.disp()\n",
    "es.result_pretty()\n",
    "cma.plot()  # shortcut for es.logger.plot()\n"
   ]
  },
  {
   "cell_type": "code",
   "execution_count": 9,
   "metadata": {},
   "outputs": [
    {
     "name": "stdout",
     "output_type": "stream",
     "text": [
      "-0.24408174748491862\n"
     ]
    }
   ],
   "source": [
    "def calculate_PDIS_H(thetae,thetab,epi,fb):\n",
    "    pie_pib = 1.0\n",
    "    ret = 0.0\n",
    "    for t in range(epi.shape[0]):\n",
    "        if t%3==0:\n",
    "            s = np.array([epi[t]])\n",
    "            a = int(epi[t+1])\n",
    "            r = epi[t+2]\n",
    "            up = calculate_pi(s,a,fb,thetae)\n",
    "            down = calculate_pi(s,a,fb,thetab)\n",
    "            pie_pib = pie_pib*(up/down)\n",
    "            ret+=pie_pib*r\n",
    "    return ret\n",
    "print(calculate_PDIS_H(np.array(es.ask(1)).reshape(2,2),thetab,Episodes[10],fb))"
   ]
  },
  {
   "cell_type": "code",
   "execution_count": 10,
   "metadata": {},
   "outputs": [
    {
     "name": "stdout",
     "output_type": "stream",
     "text": [
      "(4.061740157604892, 19.699165102595966)\n"
     ]
    }
   ],
   "source": [
    "def calculate_PDIS_D(episodes,thetae,thetab,fb):\n",
    "    ret = []\n",
    "    for epi in episodes:\n",
    "        ret.append(calculate_PDIS_H(thetae,thetab,epi,fb))\n",
    "    return np.mean(np.array(ret)),np.std(np.array(ret), ddof=1)\n",
    "print(calculate_PDIS_D(D_c,np.array(es.ask(1)).reshape(2,2),thetab,fb))"
   ]
  },
  {
   "cell_type": "code",
   "execution_count": null,
   "metadata": {
    "scrolled": true
   },
   "outputs": [
    {
     "name": "stdout",
     "output_type": "stream",
     "text": [
      "sigma:  0.1\n",
      "(4_w,8)-aCMA-ES (mu_w=2.6,w_1=52%) in dimension 4 (seed=157958, Wed Dec 11 17:06:42 2019)\n"
     ]
    }
   ],
   "source": [
    "from scipy.stats import t\n",
    "sigma = 0.1#2.0*(thetab.reshape(-1).dot(thetab.reshape(-1)) + 1.0)# sigma not sure\n",
    "print(\"sigma: \",sigma)\n",
    "es = cma.CMAEvolutionStrategy(thetab.reshape(-1), sigma)# start search from pi_b\n",
    "delta = 0.1\n",
    "c = 0\n",
    "min1 = 10000\n",
    "D_s_size = 80000\n",
    "flag = True\n",
    "while not es.stop() and flag:\n",
    "    solutions = es.ask(8)# ask for n policies\n",
    "    tell = []\n",
    "    for x in solutions:\n",
    "        pred,sig = calculate_PDIS_D(D_c,np.array(x).reshape(2,2),thetab,fb)\n",
    "        if pred<min1:\n",
    "            min1 = pred\n",
    "        t_test = pred-2*sig/np.sqrt(D_s_size)*t.ppf(1-delta,D_s_size-1)\n",
    "#         print(c)\n",
    "        if np.isnan(t_test):\n",
    "            flag = False\n",
    "        if t_test <c:\n",
    "#             print(\"bad!\")\n",
    "            pred = -100000-pred\n",
    "        pred = -pred\n",
    "        tell.append(pred)\n",
    "    es.tell(solutions,tell)\n",
    "#     es.tell(solutions,[-calculate_PDIS_D(D_c[:100],np.array(x).reshape(2,2),thetab,fb)[0] for x in solutions])\n",
    "    es.logger.add()  # write data to disc to be plotted\n",
    "    es.disp()\n",
    "es.result_pretty()\n",
    "cma.plot()  # shortcut for es.logger.plot()\n",
    "print(\"min:\",min1)"
   ]
  },
  {
   "cell_type": "code",
   "execution_count": 47,
   "metadata": {},
   "outputs": [
    {
     "name": "stdout",
     "output_type": "stream",
     "text": [
      "[array([ 19.59168594,   2.54659442, -38.32986174,  -2.80657086])]\n"
     ]
    }
   ],
   "source": [
    "print(es.ask(1))"
   ]
  },
  {
   "cell_type": "code",
   "execution_count": 23,
   "metadata": {},
   "outputs": [],
   "source": [
    "# t test\n",
    "X, delta = calculate_PDIS_D(D_c,np.array(es.ask(1)).reshape(2,2),thetab,fb)"
   ]
  },
  {
   "cell_type": "code",
   "execution_count": 24,
   "metadata": {},
   "outputs": [
    {
     "name": "stdout",
     "output_type": "stream",
     "text": [
      "12.337899658848881\n"
     ]
    }
   ],
   "source": [
    "safety = X-2*delta/np.sqrt(D_s_size)*scipy.stats.t.ppf(1-0.5,D_s_size-1)\n",
    "print(safety)"
   ]
  },
  {
   "cell_type": "code",
   "execution_count": 285,
   "metadata": {},
   "outputs": [
    {
     "name": "stdout",
     "output_type": "stream",
     "text": [
      "6.638010660180646e-17\n"
     ]
    }
   ],
   "source": [
    "print(scipy.stats.t.ppf(1-delta,D_s_size-1))"
   ]
  },
  {
   "cell_type": "code",
   "execution_count": 51,
   "metadata": {
    "scrolled": true
   },
   "outputs": [
    {
     "name": "stdout",
     "output_type": "stream",
     "text": [
      "13.911904031875608\n",
      ".13.911904031875608\n",
      ".13.911904031875608\n",
      ".13.911904031875608\n",
      ".13.911904031875608\n",
      ".13.911904031875608\n",
      ".13.911904031875608\n",
      ".13.911904031875608\n",
      ".13.911904031875608\n",
      ".13.911904031875608\n",
      ".13.911904031875608\n",
      ".13.911904031875608\n",
      ".13.911904031875608\n",
      ".13.911904031875608\n",
      ".13.911904031875608\n",
      ".13.911904031875608\n",
      ".13.911904031875608\n",
      ".13.911904031875608\n",
      ".13.911904031875608\n",
      ".13.911904031875608\n",
      ".13.911904031875608\n",
      ".13.911904031875608\n",
      ".13.911904031875608\n",
      ".13.911904031875608\n",
      ".13.911904031875608\n",
      ".13.911904031875608\n",
      ".13.911904031875608\n",
      ".13.911904031875608\n",
      ".13.911904031875608\n",
      ".13.911904031875608\n",
      ".13.911904031875608\n",
      ".13.911904031875608\n",
      ".13.911904031875608\n",
      ".13.911904031875608\n",
      ".13.911904031875608\n",
      ".13.911904031875608\n",
      ".13.911904031875608\n",
      ".13.911904031875608\n",
      ".13.911904031875608\n",
      ".13.911904031875608\n",
      ".13.911904031875608\n",
      ".13.911904031875608\n",
      ".13.911904031875608\n",
      ".13.911904031875608\n",
      ".13.911904031875608\n",
      ".13.911904031875608\n",
      ".13.911904031875608\n",
      ".13.911904031875608\n",
      ".13.911904031875608\n",
      ".13.911904031875608\n",
      ".13.911904031875608\n",
      ".13.911904031875608\n",
      ".13.911904031875608\n",
      ".13.911904031875608\n",
      ".13.911904031875608\n",
      ".13.911904031875608\n",
      ".13.911904031875608\n",
      ".13.911904031875608\n",
      ".13.911904031875608\n",
      ".13.911904031875608\n",
      ".13.911904031875608\n",
      ".13.911904031875608\n",
      ".13.911904031875608\n",
      ".13.911904031875608\n",
      ".13.911904031875608\n",
      ".13.911904031875608\n",
      ".13.911904031875608\n",
      ".13.911904031875608\n",
      ".13.911904031875608\n",
      ".13.911904031875608\n",
      ".13.911904031875608\n",
      ".13.911904031875608\n",
      ".13.911904031875608\n",
      ".13.911904031875608\n",
      ".13.911904031875608\n",
      ".13.911904031875608\n",
      ".13.911904031875608\n",
      ".13.911904031875608\n",
      ".13.911904031875608\n",
      ".13.911904031875608\n",
      ".13.911904031875608\n",
      ".13.911904031875608\n",
      ".13.911904031875608\n",
      ".13.911904031875608\n",
      ".13.911904031875608\n",
      ".13.911904031875608\n",
      ".13.911904031875608\n",
      ".13.911904031875608\n",
      ".13.911904031875608\n",
      ".13.911904031875608\n",
      ".13.911904031875608\n",
      ".13.911904031875608\n",
      ".13.911904031875608\n",
      ".13.911904031875608\n",
      ".13.911904031875608\n",
      ".13.911904031875608\n",
      ".13.911904031875608\n",
      ".13.911904031875608\n",
      ".13.911904031875608\n",
      ".13.911904031875608\n",
      ".100\n",
      "[array([ 20.91813529,   3.91680742, -43.85982967,  -1.44006696]), array([ 21.04421895,   0.93952296, -43.02456719,  -1.17518699]), array([ 20.22626399,   0.69470492, -42.51775983,  -0.87150789]), array([ 22.67854628,   5.12734306, -45.22909175,  -1.12256186]), array([ 18.77995101,   4.78855154, -42.18676239,  -1.07067811]), array([ 19.88670578,   3.20050313, -46.89042   ,  -2.29577345]), array([ 19.57832602,   1.95271237, -46.17540413,  -2.44246479]), array([ 18.82096645,   4.52904273, -42.41113692,  -3.05170813]), array([ 21.05612392,   1.91458447, -44.51650834,  -2.05472505]), array([ 23.59324353,   3.64181555, -41.12428302,  -1.94229516]), array([ 19.95886504,   5.56663007, -40.84872702,  -1.98365192]), array([ 19.0002578 ,   4.35113203, -41.1677163 ,  -2.06502573]), array([ 19.99391677,   3.9415103 , -43.2714204 ,  -0.70569392]), array([ 19.62477227,   7.40151807, -43.86977119,  -0.61827673]), array([ 19.9966656 ,   5.65866617, -40.55631442,   0.91570522]), array([ 21.96254058,   5.03616369, -44.4878926 ,  -1.6281778 ]), array([ 20.45694657,   4.77471096, -43.03952043,  -2.68899609]), array([ 1.87961224e+01,  5.48721628e+00, -3.80578120e+01,  7.06628355e-03]), array([ 21.76338029,   2.30219216, -43.64280218,   0.53926548]), array([ 19.84999716,   6.59102056, -39.837746  ,  -2.00070133]), array([ 20.5794989 ,   4.13850558, -43.62298937,  -1.66814789]), array([ 20.32562326,   2.49865023, -41.29196583,  -0.28358839]), array([ 18.63951377,   2.56215269, -43.55862841,  -3.37616033]), array([ 20.54408916,   3.47025774, -42.75737034,  -2.57241903]), array([ 19.02017018,  -0.46299998, -41.8710153 ,  -3.79228324]), array([ 21.36886377,   1.12339199, -45.92075075,  -1.00817231]), array([ 21.65573708,   5.53662572, -39.30815942,  -1.76976006]), array([ 23.15902645,   2.35281996, -42.55336972,  -0.63589619]), array([ 19.86598636,   4.58545155, -38.75006482,  -1.51301952]), array([ 19.95291675,   3.54901807, -39.83029116,  -0.36568841]), array([ 18.85337612,   4.96044371, -39.83713526,  -0.91763756]), array([ 18.34306152,   1.67252293, -40.50978774,  -2.45940353]), array([ 20.62359822,   4.07869911, -35.62693435,  -1.38619688]), array([ 21.7871292 ,   3.2291989 , -43.19528006,  -1.86775072]), array([ 19.79907669,   4.45773993, -40.7816644 ,  -1.0351078 ]), array([ 19.28378416,   3.87427001, -44.17074611,  -1.25207301]), array([ 20.06065174,   3.13989897, -41.4541793 ,  -0.96301422]), array([ 19.88146736,   1.45194993, -44.26970414,  -1.11525049]), array([ 19.50348554,   6.77579025, -40.52608746,   0.66738274]), array([ 20.57697168,   2.57687314, -43.6796428 ,  -1.67427756]), array([ 18.3062305 ,   1.57572108, -47.75427407,  -3.66521637]), array([ 20.78544414,   4.21897392, -42.65039123,  -2.44763125]), array([ 21.4679573 ,   2.40811687, -45.82622049,  -0.13837358]), array([ 21.6914459 ,   3.57193854, -41.47265225,  -1.89465068]), array([ 22.09712849,   4.22925649, -40.32141736,  -0.62337752]), array([ 21.4697312 ,   4.55118386, -44.15810513,  -0.79673266]), array([ 18.81949938,  -1.05878072, -38.19704147,  -2.21871059]), array([ 19.00326989,   2.70890678, -46.13409653,  -1.08006948]), array([ 19.35057968,   3.73024682, -40.12245159,  -0.67406974]), array([ 18.87462538,   7.3962643 , -46.26356846,  -2.07252083]), array([ 19.22873738,   0.680722  , -40.25320908,  -2.12426356]), array([ 18.64640701,   2.87407337, -39.96523964,  -0.53806275]), array([ 18.73588555,   1.32248074, -40.95144926,  -1.7520968 ]), array([ 19.91364448,   5.29115754, -42.14849026,  -1.3597314 ]), array([ 19.81139114,   3.2679115 , -39.24340692,   0.42303861]), array([ 21.26199139,   5.7771809 , -45.35410029,  -2.12548372]), array([ 20.40854268,   2.8700073 , -41.30296569,  -3.35844971]), array([ 19.71493718,  -0.16979299, -44.10441019,  -1.23143229]), array([ 17.59936825,   4.60730773, -42.5083769 ,  -0.61578501]), array([ 18.0607044 ,   1.78391433, -38.47504649,  -0.79719216]), array([ 19.35644837,   5.44025784, -40.65735194,  -1.47273222]), array([ 20.4337318 ,   7.6958303 , -43.04935957,  -0.44177883]), array([ 20.89963262,   4.01803603, -42.78038563,  -1.7197582 ]), array([ 18.07958526,   3.87523886, -43.12735952,  -1.92674807]), array([ 21.4993133 ,   2.74177612, -39.13890075,  -0.85900044]), array([ 22.53629028,   4.994361  , -45.72756401,  -2.21590707]), array([ 19.69835183,   6.30971207, -38.08349395,  -1.76787518]), array([ 22.39132803,   2.32791781, -44.3033219 ,  -3.32998727]), array([ 18.72480257,   5.40524489, -42.85032063,  -3.43470373]), array([ 21.65847179,   2.99055135, -39.89142313,  -2.00298843]), array([ 16.47816872,   3.45296139, -42.26106646,  -1.71053282]), array([ 19.0736502 ,   6.07721306, -43.80497692,  -0.36587274]), array([ 21.81232936,   2.72598708, -41.74788084,  -3.2063223 ]), array([ 20.55642166,   6.12042021, -37.67804175,   1.05357329]), array([ 19.66946037,   3.39135813, -43.38677738,  -2.23671139]), array([ 20.40350041,   6.17357738, -42.75319287,  -2.21871327]), array([ 21.68015361,   2.46697814, -42.94437501,  -1.2713049 ]), array([ 20.26589049,   2.19489732, -45.21074457,  -2.73770919]), array([ 24.06828549,   1.80476222, -45.00663559,  -1.99843408]), array([ 21.06070932,   6.29651758, -42.15806332,  -1.39837053]), array([ 19.49695159,   2.22198293, -38.15817136,  -0.28297554]), array([ 21.09699139,   5.51623428, -40.71111555,  -2.78775687]), array([ 19.45617989,  -0.39492616, -38.60582485,  -0.85470925]), array([ 18.87791031,   2.94032705, -39.31471003,   1.3937546 ]), array([ 21.45450095,   5.30353272, -41.48528251,  -1.90807303]), array([ 19.10377387,   4.62916236, -40.75903051,  -1.57353388]), array([ 18.58304073,   3.59796022, -41.03476873,  -2.68122641]), array([ 21.41176981,   4.02869243, -42.44691948,  -2.54325183]), array([ 20.33972918,   1.11773712, -40.71127896,   0.18954649]), array([ 22.4754484 ,   3.9748539 , -40.74299768,  -2.86719838]), array([ 21.8546926 ,   0.98248737, -40.77932545,  -2.53734891]), array([ 20.856327  ,   1.91931939, -42.74750799,  -1.86646744]), array([ 18.66404461,   3.40206246, -40.89848743,  -3.60282628]), array([ 20.08971524,   1.49573922, -41.44184266,  -1.58312206]), array([ 19.71379131,   4.44210479, -47.01537095,  -2.89668437]), array([ 21.90279155,   2.81717181, -36.81718337,  -2.00758457]), array([ 21.12469948,   3.75713435, -37.28049131,   1.53167733]), array([ 19.79877573,   2.19772279, -42.42640208,  -1.28535827]), array([ 16.92658093,   4.75155514, -39.59239238,  -1.05288056]), array([ 21.05984809,   7.10406978, -43.36199773,  -0.4701221 ])]\n"
     ]
    }
   ],
   "source": [
    "# run safety test\n",
    "solutions = es.ask(1000)\n",
    "final_solutions = []\n",
    "for s in solutions:\n",
    "#     print(\".\", end=\"\")\n",
    "#     pred,_ = calculate_PDIS_D(D_c[:1000],np.array(s).reshape(2,2),thetab,fb)\n",
    "    pred,sig = calculate_PDIS_D(D_s,np.array(s).reshape(2,2),thetab,fb)\n",
    "    print(pred)\n",
    "#     print(sig/np.sqrt(D_s_size)*scipy.stats.t.ppf(1-delta,D_s_size-1))\n",
    "    safety = pred - sig/np.sqrt(D_s_size)*scipy.stats.t.ppf(1-delta,D_s_size-1)\n",
    "    if safety>=c:\n",
    "        print(\".\",end=\"\")\n",
    "        final_solutions.append(s)\n",
    "    if(len(final_solutions)==100):\n",
    "        break\n",
    "print(len(final_solutions))\n",
    "print(final_solutions)"
   ]
  },
  {
   "cell_type": "code",
   "execution_count": null,
   "metadata": {},
   "outputs": [],
   "source": [
    "import csv\n",
    "for i in range(100):\n",
    "    with open('./data/'+str(i+1) + '.csv', 'w') as f:\n",
    "        writer = csv.writer(f)\n",
    "        writer.writerow([str(final_solutions[i][j]) for j in range(len(final_solutions[i]))])"
   ]
  },
  {
   "cell_type": "markdown",
   "metadata": {},
   "source": [
    "## Use cartpole to test the algorithm"
   ]
  },
  {
   "cell_type": "code",
   "execution_count": 12,
   "metadata": {},
   "outputs": [
    {
     "name": "stdout",
     "output_type": "stream",
     "text": [
      "(7_w,14)-aCMA-ES (mu_w=4.3,w_1=36%) in dimension 32 (seed=132704, Tue Dec 10 22:31:29 2019)\n",
      "Iterat #Fevals   function value  axis ratio  sigma  min&max std  t[m:s]\n",
      "    1     14 -5.300000000000000e+01 1.0e+00 9.38e-01  9e-01  9e-01 0:00.4\n",
      "    2     28 -4.700000000000000e+01 1.1e+00 8.96e-01  9e-01  9e-01 0:00.8\n",
      "    3     42 -3.200000000000000e+01 1.1e+00 8.59e-01  8e-01  9e-01 0:01.1\n",
      "    9    126 -9.400000000000000e+01 1.2e+00 8.46e-01  8e-01  9e-01 0:04.1\n"
     ]
    },
    {
     "ename": "KeyboardInterrupt",
     "evalue": "",
     "output_type": "error",
     "traceback": [
      "\u001b[1;31m---------------------------------------------------------------------------\u001b[0m",
      "\u001b[1;31mKeyboardInterrupt\u001b[0m                         Traceback (most recent call last)",
      "\u001b[1;32m<ipython-input-12-d85d4ccfdf2e>\u001b[0m in \u001b[0;36m<module>\u001b[1;34m\u001b[0m\n\u001b[0;32m     52\u001b[0m \u001b[1;32mwhile\u001b[0m \u001b[1;32mnot\u001b[0m \u001b[0mes\u001b[0m\u001b[1;33m.\u001b[0m\u001b[0mstop\u001b[0m\u001b[1;33m(\u001b[0m\u001b[1;33m)\u001b[0m\u001b[1;33m:\u001b[0m\u001b[1;33m\u001b[0m\u001b[1;33m\u001b[0m\u001b[0m\n\u001b[0;32m     53\u001b[0m     \u001b[0msolutions\u001b[0m \u001b[1;33m=\u001b[0m \u001b[0mes\u001b[0m\u001b[1;33m.\u001b[0m\u001b[0mask\u001b[0m\u001b[1;33m(\u001b[0m\u001b[1;33m)\u001b[0m\u001b[1;31m# ask for n policies\u001b[0m\u001b[1;33m\u001b[0m\u001b[1;33m\u001b[0m\u001b[0m\n\u001b[1;32m---> 54\u001b[1;33m     \u001b[0mes\u001b[0m\u001b[1;33m.\u001b[0m\u001b[0mtell\u001b[0m\u001b[1;33m(\u001b[0m\u001b[0msolutions\u001b[0m\u001b[1;33m,\u001b[0m\u001b[1;33m[\u001b[0m\u001b[1;33m-\u001b[0m\u001b[0mevaluationFunction2\u001b[0m\u001b[1;33m(\u001b[0m\u001b[0mx\u001b[0m\u001b[1;33m,\u001b[0m\u001b[1;36m10\u001b[0m\u001b[1;33m)\u001b[0m \u001b[1;32mfor\u001b[0m \u001b[0mx\u001b[0m \u001b[1;32min\u001b[0m \u001b[0msolutions\u001b[0m\u001b[1;33m]\u001b[0m\u001b[1;33m)\u001b[0m\u001b[1;33m\u001b[0m\u001b[1;33m\u001b[0m\u001b[0m\n\u001b[0m\u001b[0;32m     55\u001b[0m     \u001b[0mes\u001b[0m\u001b[1;33m.\u001b[0m\u001b[0mlogger\u001b[0m\u001b[1;33m.\u001b[0m\u001b[0madd\u001b[0m\u001b[1;33m(\u001b[0m\u001b[1;33m)\u001b[0m  \u001b[1;31m# write data to disc to be plotted\u001b[0m\u001b[1;33m\u001b[0m\u001b[1;33m\u001b[0m\u001b[0m\n\u001b[0;32m     56\u001b[0m     \u001b[0mes\u001b[0m\u001b[1;33m.\u001b[0m\u001b[0mdisp\u001b[0m\u001b[1;33m(\u001b[0m\u001b[1;33m)\u001b[0m\u001b[1;33m\u001b[0m\u001b[1;33m\u001b[0m\u001b[0m\n",
      "\u001b[1;32m<ipython-input-12-d85d4ccfdf2e>\u001b[0m in \u001b[0;36m<listcomp>\u001b[1;34m(.0)\u001b[0m\n\u001b[0;32m     52\u001b[0m \u001b[1;32mwhile\u001b[0m \u001b[1;32mnot\u001b[0m \u001b[0mes\u001b[0m\u001b[1;33m.\u001b[0m\u001b[0mstop\u001b[0m\u001b[1;33m(\u001b[0m\u001b[1;33m)\u001b[0m\u001b[1;33m:\u001b[0m\u001b[1;33m\u001b[0m\u001b[1;33m\u001b[0m\u001b[0m\n\u001b[0;32m     53\u001b[0m     \u001b[0msolutions\u001b[0m \u001b[1;33m=\u001b[0m \u001b[0mes\u001b[0m\u001b[1;33m.\u001b[0m\u001b[0mask\u001b[0m\u001b[1;33m(\u001b[0m\u001b[1;33m)\u001b[0m\u001b[1;31m# ask for n policies\u001b[0m\u001b[1;33m\u001b[0m\u001b[1;33m\u001b[0m\u001b[0m\n\u001b[1;32m---> 54\u001b[1;33m     \u001b[0mes\u001b[0m\u001b[1;33m.\u001b[0m\u001b[0mtell\u001b[0m\u001b[1;33m(\u001b[0m\u001b[0msolutions\u001b[0m\u001b[1;33m,\u001b[0m\u001b[1;33m[\u001b[0m\u001b[1;33m-\u001b[0m\u001b[0mevaluationFunction2\u001b[0m\u001b[1;33m(\u001b[0m\u001b[0mx\u001b[0m\u001b[1;33m,\u001b[0m\u001b[1;36m10\u001b[0m\u001b[1;33m)\u001b[0m \u001b[1;32mfor\u001b[0m \u001b[0mx\u001b[0m \u001b[1;32min\u001b[0m \u001b[0msolutions\u001b[0m\u001b[1;33m]\u001b[0m\u001b[1;33m)\u001b[0m\u001b[1;33m\u001b[0m\u001b[1;33m\u001b[0m\u001b[0m\n\u001b[0m\u001b[0;32m     55\u001b[0m     \u001b[0mes\u001b[0m\u001b[1;33m.\u001b[0m\u001b[0mlogger\u001b[0m\u001b[1;33m.\u001b[0m\u001b[0madd\u001b[0m\u001b[1;33m(\u001b[0m\u001b[1;33m)\u001b[0m  \u001b[1;31m# write data to disc to be plotted\u001b[0m\u001b[1;33m\u001b[0m\u001b[1;33m\u001b[0m\u001b[0m\n\u001b[0;32m     56\u001b[0m     \u001b[0mes\u001b[0m\u001b[1;33m.\u001b[0m\u001b[0mdisp\u001b[0m\u001b[1;33m(\u001b[0m\u001b[1;33m)\u001b[0m\u001b[1;33m\u001b[0m\u001b[1;33m\u001b[0m\u001b[0m\n",
      "\u001b[1;32m<ipython-input-12-d85d4ccfdf2e>\u001b[0m in \u001b[0;36mevaluationFunction2\u001b[1;34m(theta_p, numEpisodes)\u001b[0m\n\u001b[0;32m     35\u001b[0m \u001b[1;31m#             phi = generatephi(s)\u001b[0m\u001b[1;33m\u001b[0m\u001b[1;33m\u001b[0m\u001b[1;33m\u001b[0m\u001b[0m\n\u001b[0;32m     36\u001b[0m             \u001b[0mfb2\u001b[0m \u001b[1;33m=\u001b[0m \u001b[0mFourierBasis\u001b[0m\u001b[1;33m(\u001b[0m\u001b[0mlen\u001b[0m\u001b[1;33m(\u001b[0m\u001b[0ms\u001b[0m\u001b[1;33m)\u001b[0m\u001b[1;33m,\u001b[0m \u001b[1;36m1\u001b[0m\u001b[1;33m,\u001b[0m \u001b[1;36m1\u001b[0m\u001b[1;33m)\u001b[0m\u001b[1;33m\u001b[0m\u001b[1;33m\u001b[0m\u001b[0m\n\u001b[1;32m---> 37\u001b[1;33m             \u001b[0mphi\u001b[0m \u001b[1;33m=\u001b[0m \u001b[0mfb2\u001b[0m\u001b[1;33m.\u001b[0m\u001b[0mbasify\u001b[0m\u001b[1;33m(\u001b[0m\u001b[0ms\u001b[0m\u001b[1;33m)\u001b[0m\u001b[1;33m\u001b[0m\u001b[1;33m\u001b[0m\u001b[0m\n\u001b[0m\u001b[0;32m     38\u001b[0m \u001b[1;31m#             print(phi.shape)\u001b[0m\u001b[1;33m\u001b[0m\u001b[1;33m\u001b[0m\u001b[1;33m\u001b[0m\u001b[0m\n\u001b[0;32m     39\u001b[0m             \u001b[0mPsa\u001b[0m \u001b[1;33m=\u001b[0m \u001b[0mnp\u001b[0m\u001b[1;33m.\u001b[0m\u001b[0mdot\u001b[0m\u001b[1;33m(\u001b[0m\u001b[0mphi\u001b[0m\u001b[1;33m,\u001b[0m\u001b[0mtheta\u001b[0m\u001b[1;33m.\u001b[0m\u001b[0mT\u001b[0m\u001b[1;33m)\u001b[0m\u001b[1;33m\u001b[0m\u001b[1;33m\u001b[0m\u001b[0m\n",
      "\u001b[1;32m<ipython-input-10-666fe9ee11b6>\u001b[0m in \u001b[0;36mbasify\u001b[1;34m(self, x)\u001b[0m\n\u001b[0;32m     42\u001b[0m \u001b[1;31m#         print(\"c[i] x\")\u001b[0m\u001b[1;33m\u001b[0m\u001b[1;33m\u001b[0m\u001b[1;33m\u001b[0m\u001b[0m\n\u001b[0;32m     43\u001b[0m         \u001b[1;32mfor\u001b[0m \u001b[0mi\u001b[0m \u001b[1;32min\u001b[0m \u001b[0mrange\u001b[0m\u001b[1;33m(\u001b[0m\u001b[0mself\u001b[0m\u001b[1;33m.\u001b[0m\u001b[0mnTerms\u001b[0m\u001b[1;33m)\u001b[0m\u001b[1;33m:\u001b[0m\u001b[1;33m\u001b[0m\u001b[1;33m\u001b[0m\u001b[0m\n\u001b[1;32m---> 44\u001b[1;33m             \u001b[0mresult\u001b[0m\u001b[1;33m[\u001b[0m\u001b[0mi\u001b[0m\u001b[1;33m]\u001b[0m \u001b[1;33m=\u001b[0m \u001b[0mnp\u001b[0m\u001b[1;33m.\u001b[0m\u001b[0mcos\u001b[0m\u001b[1;33m(\u001b[0m\u001b[0mmath\u001b[0m\u001b[1;33m.\u001b[0m\u001b[0mpi\u001b[0m\u001b[1;33m*\u001b[0m \u001b[0mnp\u001b[0m\u001b[1;33m.\u001b[0m\u001b[0mdot\u001b[0m\u001b[1;33m(\u001b[0m\u001b[0mself\u001b[0m\u001b[1;33m.\u001b[0m\u001b[0mc\u001b[0m\u001b[1;33m[\u001b[0m\u001b[0mi\u001b[0m\u001b[1;33m]\u001b[0m\u001b[1;33m,\u001b[0m \u001b[0mx\u001b[0m\u001b[1;33m)\u001b[0m\u001b[1;33m)\u001b[0m\u001b[1;33m\u001b[0m\u001b[1;33m\u001b[0m\u001b[0m\n\u001b[0m\u001b[0;32m     45\u001b[0m \u001b[1;31m#             print(c[i],x)\u001b[0m\u001b[1;33m\u001b[0m\u001b[1;33m\u001b[0m\u001b[1;33m\u001b[0m\u001b[0m\n\u001b[0;32m     46\u001b[0m \u001b[1;31m#             print(np.dot(self.c[i], x))\u001b[0m\u001b[1;33m\u001b[0m\u001b[1;33m\u001b[0m\u001b[1;33m\u001b[0m\u001b[0m\n",
      "\u001b[1;31mKeyboardInterrupt\u001b[0m: "
     ]
    }
   ],
   "source": [
    "# evaluate cartpole\n",
    "from rl687.environments.cartpole import Cartpole\n",
    "from rl687.policies.tabular_softmax import TabularSoftmax\n",
    "\n",
    "# def generatephi(state):\n",
    "#     ret = []\n",
    "#     for i in range(3):\n",
    "#         for j in range(3):\n",
    "#             for m in range(3):\n",
    "#                 for n in range(3):\n",
    "#                     ret.append((state[0]**i)*(state[1]**j)*(state[2]**m)*(state[3]**n))\n",
    "#     print(len(ret))\n",
    "#     return np.array(ret)\n",
    "\n",
    "\n",
    "def evaluationFunction2(theta_p,numEpisodes):\n",
    "    \"\"\"\n",
    "    evaluationFunction (function): evaluates the provided parameterized policy.\n",
    "    input: theta_p (numpy.ndarray, a parameterized policy), numEpisodes\n",
    "    output: the estimated return of the policy\n",
    "    \"\"\"\n",
    "\n",
    "    # init the gridworld\n",
    "    cartpole = Cartpole()\n",
    "    returns = np.zeros(numEpisodes)\n",
    "\n",
    "    theta = theta_p.reshape(2,-1) # divide to each function\n",
    "\n",
    "    for epoch in range(numEpisodes):\n",
    "        cartpole.reset()\n",
    "        step = 0\n",
    "        g = 0\n",
    "        s = [0.,0.,0.,0.]\n",
    "        while not cartpole.isEnd:\n",
    "#             phi = generatephi(s)\n",
    "            fb2 = FourierBasis(len(s), 1, 1)\n",
    "            phi = fb2.basify(s)\n",
    "#             print(phi.shape)\n",
    "            Psa = np.dot(phi,theta.T)\n",
    "            action = 0\n",
    "            if Psa[0]<Psa[1]:\n",
    "                action = 1\n",
    "            s, r, e = cartpole.step(action)\n",
    "            g += (cartpole.gamma ** step) * r\n",
    "            step += 1\n",
    "        returns[epoch] = g\n",
    "    return returns.mean()\n",
    "\n",
    "# test cma es for cartpole policy selection\n",
    "es = cma.CMAEvolutionStrategy(32*[0], 1)# start search from pi_b\n",
    "solutions = es.ask()\n",
    "while not es.stop():\n",
    "    solutions = es.ask()# ask for n policies\n",
    "    es.tell(solutions,[-evaluationFunction2(x,10) for x in solutions])\n",
    "    es.logger.add()  # write data to disc to be plotted\n",
    "    es.disp()\n",
    "es.result_pretty()\n",
    "cma.plot()  # shortcut for es.logger.plot()\n"
   ]
  },
  {
   "cell_type": "code",
   "execution_count": 15,
   "metadata": {
    "scrolled": true
   },
   "outputs": [
    {
     "name": "stdout",
     "output_type": "stream",
     "text": [
      "(7_w,14)-aCMA-ES (mu_w=4.3,w_1=36%) in dimension 32 (seed=158600, Tue Dec 10 22:33:06 2019)\n",
      "pi_B:  [[ 1.60099347  0.16817724 -1.06891218  0.36363451  0.75959176  0.76664455\n",
      "  -0.13805116 -1.14655205  1.25949261  0.37331885  0.49091052  1.02867167\n",
      "  -0.08210027  0.64607996  0.92785426  0.19242973  0.39021695  1.13769559\n",
      "  -1.85683741  2.26609458  1.07452256  0.52061546 -0.16637416  0.735372\n",
      "  -0.20085704 -0.3208897   0.16030497 -1.11630003 -0.94605498 -1.31859223\n",
      "  -0.51873905 -1.18672404]]\n",
      "A: 25\n",
      "[[0.0, 0.0, 0.0, 0.0], array([ 0.        , -0.19512195,  0.        ,  0.29268293]), array([-0.00390244, -0.3902439 ,  0.00585366,  0.58536585]), array([-0.01170732, -0.58544736,  0.01756098,  0.87988698]), array([-0.02341626, -0.39056834,  0.03515872,  0.59277619]), array([-0.03122763, -0.58616436,  0.04701424,  0.89632344]), array([-0.04295092, -0.39171026,  0.06494071,  0.61878169]), array([-0.05078512, -0.58767631,  0.07731634,  0.9311903 ]), array([-0.06253865, -0.39367812,  0.09594015,  0.6637707 ]), array([-0.07041221, -0.58999458,  0.10921556,  0.98505433]), array([-0.0822121 , -0.39649154,  0.12891665,  0.72857472]), array([-0.09014193, -0.20336501,  0.14348814,  0.47908543]), array([-0.09420923, -0.40019015,  0.15306985,  0.81332996]), array([-0.10221304, -0.20745876,  0.16933645,  0.5724401 ]), array([-0.10636221, -0.01506514,  0.18078525,  0.33752475]), array([-0.10666352, -0.21223729,  0.18753575,  0.68132477]), array([-0.11090826, -0.02014638,  0.20116224,  0.45305329]), array([-0.11131119,  0.17164755,  0.21022331,  0.22990731]), array([-0.10787824, -0.02576149,  0.21482146,  0.58085316]), array([-0.10839347,  0.16580671,  0.22643852,  0.36277866]), array([-0.10507733,  0.35711434,  0.23369409,  0.14914819]), array([-0.09793505,  0.15954184,  0.23667706,  0.50553359]), array([-0.09474421,  0.35068438,  0.24678773,  0.29574789]), array([-0.08773052,  0.5415962 ,  0.25270268,  0.08987783]), array([-0.0768986 ,  0.34390864,  0.25450024,  0.45049779])]\n",
      "S: 25\n",
      "[0, 0, 0, 1, 0, 1, 0, 1, 0, 1, 1, 0, 1, 1, 0, 1, 1, 0, 1, 1, 0, 1, 1, 0, 1]\n",
      "R: 25\n",
      "[1.0, 1.0, 1.0, 1.0, 1.0, 1.0, 1.0, 1.0, 1.0, 1.0, 1.0, 1.0, 1.0, 1.0, 1.0, 1.0, 1.0, 1.0, 1.0, 1.0, 1.0, 1.0, 1.0, 1.0, 1.0]\n"
     ]
    }
   ],
   "source": [
    "# generate random episodes with behavior policy and use it to test cma es by the way\n",
    "def GenerateCartpoleData(theta_p):\n",
    "    cartpole = Cartpole()\n",
    "    theta = theta_p.reshape(2,-1) # divide to each function\n",
    "    cartpole.reset()\n",
    "    step = 0\n",
    "    g = 0\n",
    "    s = [0.,0.,0.,0.]\n",
    "    S = []\n",
    "    A = []\n",
    "    R = []\n",
    "    S.append(s)\n",
    "    while not cartpole.isEnd:\n",
    "        fb2 = FourierBasis(len(s), 1, 1)\n",
    "        phi = fb2.basify(s)\n",
    "#         print(theta.shape)\n",
    "        Psa = np.dot(phi,theta.T)\n",
    "        action = 0\n",
    "        if Psa[0]<Psa[1]:\n",
    "            action = 1\n",
    "        s, r, e = cartpole.step(action)\n",
    "        A.append(int(action))\n",
    "        S.append(s)\n",
    "        R.append(r)\n",
    "#         g += (cartpole.gamma ** step) * r\n",
    "        step += 1\n",
    "    return S[0:-1],A,R\n",
    "es = cma.CMAEvolutionStrategy(32*[0], 1)# start search from pi_b\n",
    "new_theta_b = np.array(es.ask(1))\n",
    "print(\"pi_B: \",new_theta_b)\n",
    "A,S,R = GenerateCartpoleData(new_theta_b)\n",
    "print(\"A:\",len(A))\n",
    "print(A)\n",
    "print(\"S:\",len(S))\n",
    "print(S)\n",
    "print(\"R:\",len(R))\n",
    "print(R)\n",
    "# Rett[i] = evaluationFunction2(new_theta_b ,100)\n",
    "# print(Rett[i])"
   ]
  },
  {
   "cell_type": "code",
   "execution_count": 19,
   "metadata": {
    "scrolled": true
   },
   "outputs": [
    {
     "name": "stdout",
     "output_type": "stream",
     "text": [
      "sigma:  1.0\n",
      "new theta b:  [[ 1.60099347  0.16817724 -1.06891218  0.36363451  0.75959176  0.76664455\n",
      "  -0.13805116 -1.14655205  1.25949261  0.37331885  0.49091052  1.02867167\n",
      "  -0.08210027  0.64607996  0.92785426  0.19242973  0.39021695  1.13769559\n",
      "  -1.85683741  2.26609458  1.07452256  0.52061546 -0.16637416  0.735372\n",
      "  -0.20085704 -0.3208897   0.16030497 -1.11630003 -0.94605498 -1.31859223\n",
      "  -0.51873905 -1.18672404]]\n",
      "(7_w,14)-aCMA-ES (mu_w=4.3,w_1=36%) in dimension 32 (seed=191706, Tue Dec 10 22:40:02 2019)\n"
     ]
    },
    {
     "name": "stderr",
     "output_type": "stream",
     "text": [
      "C:\\Users\\gx\\Anaconda3\\lib\\site-packages\\cma\\utilities\\utils.py:333: UserWarning: input x0 should be a list or 1-D array, trying to flatten (1, 32)-array ()\n",
      "  ')')\n"
     ]
    },
    {
     "name": "stdout",
     "output_type": "stream",
     "text": [
      "bad!\n",
      "bad!\n",
      "bad!\n",
      "bad!\n",
      "bad!\n",
      "bad!\n",
      "bad!\n",
      "bad!\n",
      "bad!\n",
      "Iterat #Fevals   function value  axis ratio  sigma  min&max std  t[m:s]\n",
      "    1     14 -4.406408456061214e+01 1.0e+00 9.35e-01  9e-01  9e-01 1:04.3\n",
      "bad!\n",
      "bad!\n",
      "bad!\n",
      "bad!\n",
      "bad!\n",
      "bad!\n",
      "bad!\n",
      "bad!\n",
      "bad!\n",
      "    2     28 -7.978259426851649e+01 1.1e+00 9.02e-01  9e-01  9e-01 2:09.2\n",
      "bad!\n",
      "bad!\n",
      "bad!\n",
      "bad!\n",
      "bad!\n",
      "bad!\n",
      "    3     42 -9.248315719269857e+01 1.1e+00 8.88e-01  9e-01  9e-01 3:13.2\n",
      "bad!\n",
      "bad!\n",
      "bad!\n",
      "bad!\n",
      "    4     56 -1.628667217022519e+02 1.1e+00 8.74e-01  9e-01  9e-01 4:16.6\n",
      "bad!\n",
      "bad!\n",
      "    5     70 -1.519758819041118e+02 1.1e+00 8.62e-01  8e-01  9e-01 5:19.8\n",
      "bad!\n",
      "    6     84 -1.648348946369301e+02 1.1e+00 8.76e-01  9e-01  9e-01 6:22.8\n",
      "    7     98 -1.431892778035963e+02 1.2e+00 8.84e-01  9e-01  9e-01 7:46.3\n",
      "bad!\n",
      "    8    112 -1.815334607047753e+02 1.2e+00 8.88e-01  9e-01  9e-01 8:57.0\n",
      "    9    126 -2.963845018534108e+02 1.2e+00 9.06e-01  9e-01  9e-01 10:01.2\n",
      "   10    140 -2.692426182769794e+02 1.3e+00 9.39e-01  9e-01  1e+00 11:04.7\n",
      "   11    154 -2.525992420260891e+02 1.3e+00 9.58e-01  9e-01  1e+00 12:08.6\n",
      "bad!\n",
      "bad!\n",
      "bad!\n",
      "bad!\n",
      "bad!\n",
      "bad!\n",
      "bad!\n",
      "   12    168 -2.355416876817816e+02 1.3e+00 9.57e-01  9e-01  1e+00 13:12.7\n",
      "bad!\n",
      "bad!\n",
      "   13    182 -2.778330046457276e+02 1.3e+00 9.69e-01  9e-01  1e+00 14:16.0\n",
      "bad!\n",
      "bad!\n",
      "bad!\n",
      "   14    196 -1.964749871540243e+02 1.4e+00 9.74e-01  1e+00  1e+00 15:19.2\n",
      "bad!\n",
      "bad!\n",
      "bad!\n",
      "   15    210 -4.017139298188785e+02 1.4e+00 9.88e-01  1e+00  1e+00 16:29.5\n",
      "   16    224 -4.076073328641832e+02 1.4e+00 1.01e+00  1e+00  1e+00 17:35.4\n",
      "bad!\n",
      "   17    238 -3.382616571291913e+02 1.4e+00 1.04e+00  1e+00  1e+00 18:39.5\n",
      "   18    252 -4.463123516411084e+02 1.5e+00 1.07e+00  1e+00  1e+00 19:43.3\n",
      "   19    266 -4.490525370405275e+02 1.5e+00 1.11e+00  1e+00  1e+00 20:47.1\n",
      "bad!\n",
      "   20    280 -4.845955599756961e+02 1.6e+00 1.15e+00  1e+00  1e+00 21:51.0\n",
      "   21    294 -4.844654620737985e+02 1.6e+00 1.16e+00  1e+00  1e+00 23:17.9\n",
      "   22    308 -4.479753007867649e+02 1.6e+00 1.17e+00  1e+00  1e+00 24:25.6\n",
      "bad!\n",
      "   23    322 -4.248384524700780e+02 1.7e+00 1.17e+00  1e+00  1e+00 25:29.5\n",
      "bad!\n",
      "bad!\n",
      "bad!\n",
      "   24    336 -3.531333113883172e+02 1.7e+00 1.18e+00  1e+00  1e+00 26:33.2\n",
      "   25    350 -4.590165340814056e+02 1.7e+00 1.19e+00  1e+00  1e+00 27:39.5\n",
      "bad!\n",
      "bad!\n",
      "   26    364 -4.870690133497920e+02 1.7e+00 1.22e+00  1e+00  1e+00 28:59.5\n",
      "   27    378 -4.472068353688336e+02 1.8e+00 1.25e+00  1e+00  1e+00 30:13.3\n",
      "   28    392 -4.886648497159540e+02 1.8e+00 1.29e+00  1e+00  1e+00 31:18.3\n",
      "bad!\n",
      "   29    406 -4.855144310275557e+02 1.8e+00 1.32e+00  1e+00  1e+00 32:22.8\n",
      "   30    420 -5.056085924262841e+02 1.9e+00 1.32e+00  1e+00  1e+00 33:27.2\n",
      "bad!\n",
      "   31    434 -5.170566272479625e+02 1.9e+00 1.33e+00  1e+00  1e+00 34:31.1\n",
      "bad!\n",
      "bad!\n",
      "   32    448 -5.029083715806449e+02 1.9e+00 1.38e+00  1e+00  2e+00 35:35.1\n",
      "bad!\n",
      "   33    462 -5.206835546146779e+02 1.9e+00 1.43e+00  1e+00  2e+00 36:38.4\n",
      "bad!\n",
      "bad!\n",
      "   34    476 -4.924090000663783e+02 2.0e+00 1.43e+00  1e+00  2e+00 37:42.2\n",
      "bad!\n",
      "   35    490 -5.316122854683327e+02 2.0e+00 1.42e+00  1e+00  2e+00 38:45.8\n",
      "   36    504 -5.150741235375806e+02 2.0e+00 1.43e+00  1e+00  2e+00 39:50.4\n",
      "bad!\n",
      "   37    518 -5.208713082664199e+02 2.1e+00 1.45e+00  1e+00  2e+00 40:55.6\n",
      "   38    532 -5.108199832105237e+02 2.1e+00 1.46e+00  1e+00  2e+00 42:00.9\n",
      "bad!\n",
      "   39    546 -5.314113455743484e+02 2.1e+00 1.43e+00  1e+00  2e+00 43:06.4\n",
      "   40    560 -5.379493807565415e+02 2.1e+00 1.38e+00  1e+00  2e+00 44:11.2\n",
      "bad!\n",
      "   41    574 -5.446812705302561e+02 2.2e+00 1.33e+00  1e+00  2e+00 45:16.5\n",
      "bad!\n",
      "   42    588 -5.368434015055608e+02 2.2e+00 1.28e+00  1e+00  1e+00 46:21.8\n",
      "bad!\n",
      "   43    602 -5.349083248618824e+02 2.2e+00 1.25e+00  1e+00  1e+00 47:27.0\n",
      "bad!\n",
      "   44    616 -5.326366329414433e+02 2.2e+00 1.21e+00  1e+00  1e+00 48:30.8\n",
      "bad!\n",
      "   45    630 -5.342822740329630e+02 2.3e+00 1.15e+00  1e+00  1e+00 49:34.6\n",
      "   46    644 -5.275894448635673e+02 2.3e+00 1.12e+00  1e+00  1e+00 50:38.4\n",
      "   47    658 -5.308098394788302e+02 2.3e+00 1.08e+00  1e+00  1e+00 51:43.3\n",
      "   48    672 -5.338134788065051e+02 2.3e+00 1.07e+00  1e+00  1e+00 52:46.8\n",
      "   49    686 -5.388913195911555e+02 2.3e+00 1.08e+00  1e+00  1e+00 53:50.6\n",
      "   50    700 -5.437847284126919e+02 2.3e+00 1.12e+00  1e+00  1e+00 54:54.5\n",
      "bad!\n",
      "   51    714 -5.444398749942409e+02 2.4e+00 1.16e+00  1e+00  1e+00 55:58.1\n",
      "   52    728 -5.485317369864925e+02 2.4e+00 1.18e+00  1e+00  1e+00 57:01.7\n",
      "   53    742 -5.466956841035654e+02 2.4e+00 1.19e+00  1e+00  1e+00 58:05.2\n",
      "   54    756 -5.460862717630690e+02 2.4e+00 1.21e+00  1e+00  1e+00 59:08.4\n",
      "   55    770 -5.419973817553865e+02 2.5e+00 1.22e+00  1e+00  1e+00 60:12.1\n",
      "   56    784 -5.481774854304565e+02 2.5e+00 1.21e+00  1e+00  1e+00 61:15.5\n",
      "   57    798 -5.466453726882356e+02 2.5e+00 1.21e+00  1e+00  1e+00 62:18.8\n",
      "   58    812 -5.460028191121656e+02 2.6e+00 1.21e+00  1e+00  1e+00 63:22.4\n",
      "   59    826 -5.469524584318424e+02 2.6e+00 1.22e+00  1e+00  1e+00 884:54.1\n",
      "   60    840 -5.473380629805890e+02 2.6e+00 1.24e+00  1e+00  1e+00 886:31.8\n",
      "   61    854 -5.485779122162332e+02 2.7e+00 1.24e+00  1e+00  1e+00 888:08.2\n",
      "   62    868 -5.493359454785632e+02 2.7e+00 1.23e+00  1e+00  1e+00 889:33.3\n",
      "bad!\n",
      "   63    882 -5.489324290662051e+02 2.8e+00 1.24e+00  1e+00  1e+00 890:44.2\n",
      "   64    896 -5.484992933997626e+02 2.9e+00 1.26e+00  1e+00  1e+00 891:53.9\n",
      "   65    910 -5.487770139914835e+02 2.9e+00 1.27e+00  1e+00  1e+00 893:03.3\n",
      "   66    924 -5.491674425592975e+02 3.0e+00 1.28e+00  1e+00  1e+00 894:12.5\n",
      "   67    938 -5.493272709404721e+02 3.0e+00 1.31e+00  1e+00  2e+00 895:22.1\n",
      "   68    952 -5.490670732641562e+02 3.0e+00 1.31e+00  1e+00  2e+00 897:00.7\n",
      "   69    966 -5.499742080323387e+02 3.1e+00 1.32e+00  1e+00  2e+00 898:26.5\n",
      "   70    980 -5.498541116748693e+02 3.1e+00 1.34e+00  1e+00  2e+00 899:43.4\n",
      "   71    994 -5.494224328184820e+02 3.1e+00 1.37e+00  1e+00  2e+00 900:54.7\n",
      "   72   1008 -5.498367609260583e+02 3.1e+00 1.38e+00  1e+00  2e+00 902:25.6\n",
      "   74   1036 -5.502971960752089e+02 3.2e+00 1.38e+00  1e+00  2e+00 904:45.2\n",
      "   76   1064 -5.501941973137372e+02 3.2e+00 1.39e+00  1e+00  2e+00 907:04.6\n",
      "   78   1092 -5.503820848250235e+02 3.3e+00 1.45e+00  1e+00  2e+00 909:24.8\n",
      "   80   1120 -5.504225767481678e+02 3.4e+00 1.51e+00  1e+00  2e+00 911:45.4\n",
      "   82   1148 -5.504647239216657e+02 3.5e+00 1.53e+00  1e+00  2e+00 914:05.2\n",
      "   84   1176 -5.504832842351755e+02 3.6e+00 1.57e+00  1e+00  2e+00 987:37.1\n",
      "   85   1190 -5.504851674032444e+02 3.6e+00 1.57e+00  1e+00  2e+00 989:38.8\n",
      "   86   1204 -5.504612913679365e+02 3.6e+00 1.58e+00  1e+00  2e+00 993:02.7\n",
      "   87   1218 -5.504986951647444e+02 3.6e+00 1.60e+00  1e+00  2e+00 996:21.3\n",
      "   88   1232 -5.504966965811457e+02 3.7e+00 1.62e+00  2e+00  2e+00 999:38.4\n",
      "   89   1246 -5.505013214481480e+02 3.8e+00 1.68e+00  2e+00  2e+00 1002:53.3\n",
      "   90   1260 -5.505029920997029e+02 3.8e+00 1.70e+00  2e+00  2e+00 1006:03.8\n",
      "   91   1274 -5.505036092237299e+02 3.9e+00 1.75e+00  2e+00  2e+00 1009:10.5\n",
      "   92   1288 -5.505036984789530e+02 3.9e+00 1.80e+00  2e+00  2e+00 1012:25.2\n",
      "   93   1302 -5.505042513815388e+02 4.0e+00 1.87e+00  2e+00  2e+00 1015:35.2\n",
      "   94   1316 -5.505042215267430e+02 4.1e+00 1.96e+00  2e+00  2e+00 1018:41.9\n"
     ]
    },
    {
     "ename": "KeyboardInterrupt",
     "evalue": "",
     "output_type": "error",
     "traceback": [
      "\u001b[1;31m---------------------------------------------------------------------------\u001b[0m",
      "\u001b[1;31mKeyboardInterrupt\u001b[0m                         Traceback (most recent call last)",
      "\u001b[1;32m<ipython-input-19-94ca7405027b>\u001b[0m in \u001b[0;36m<module>\u001b[1;34m\u001b[0m\n\u001b[0;32m     34\u001b[0m     \u001b[0mtell\u001b[0m \u001b[1;33m=\u001b[0m \u001b[1;33m[\u001b[0m\u001b[1;33m]\u001b[0m\u001b[1;33m\u001b[0m\u001b[1;33m\u001b[0m\u001b[0m\n\u001b[0;32m     35\u001b[0m     \u001b[1;32mfor\u001b[0m \u001b[0mx\u001b[0m \u001b[1;32min\u001b[0m \u001b[0msolutions\u001b[0m\u001b[1;33m:\u001b[0m\u001b[1;33m\u001b[0m\u001b[1;33m\u001b[0m\u001b[0m\n\u001b[1;32m---> 36\u001b[1;33m         \u001b[0mpred\u001b[0m\u001b[1;33m,\u001b[0m\u001b[0msig\u001b[0m \u001b[1;33m=\u001b[0m \u001b[0mcalculate_PDIS_D\u001b[0m\u001b[1;33m(\u001b[0m\u001b[0mnp\u001b[0m\u001b[1;33m.\u001b[0m\u001b[0marray\u001b[0m\u001b[1;33m(\u001b[0m\u001b[0mx\u001b[0m\u001b[1;33m)\u001b[0m\u001b[1;33m,\u001b[0m\u001b[0mnew_theta_b\u001b[0m\u001b[1;33m,\u001b[0m\u001b[0mfb2\u001b[0m\u001b[1;33m)\u001b[0m\u001b[1;33m\u001b[0m\u001b[1;33m\u001b[0m\u001b[0m\n\u001b[0m\u001b[0;32m     37\u001b[0m         \u001b[1;32mif\u001b[0m \u001b[0mpred\u001b[0m\u001b[1;33m<\u001b[0m\u001b[0mmin1\u001b[0m\u001b[1;33m:\u001b[0m\u001b[1;33m\u001b[0m\u001b[1;33m\u001b[0m\u001b[0m\n\u001b[0;32m     38\u001b[0m             \u001b[0mmin1\u001b[0m \u001b[1;33m=\u001b[0m \u001b[0mpred\u001b[0m\u001b[1;33m\u001b[0m\u001b[1;33m\u001b[0m\u001b[0m\n",
      "\u001b[1;32m<ipython-input-19-94ca7405027b>\u001b[0m in \u001b[0;36mcalculate_PDIS_D\u001b[1;34m(thetae, theta_b, fb)\u001b[0m\n\u001b[0;32m     14\u001b[0m     \u001b[0mret\u001b[0m \u001b[1;33m=\u001b[0m \u001b[1;33m[\u001b[0m\u001b[1;33m]\u001b[0m\u001b[1;33m\u001b[0m\u001b[1;33m\u001b[0m\u001b[0m\n\u001b[0;32m     15\u001b[0m     \u001b[1;32mfor\u001b[0m \u001b[0mi\u001b[0m \u001b[1;32min\u001b[0m \u001b[0mrange\u001b[0m\u001b[1;33m(\u001b[0m\u001b[1;36m1000\u001b[0m\u001b[1;33m)\u001b[0m\u001b[1;33m:\u001b[0m\u001b[1;33m\u001b[0m\u001b[1;33m\u001b[0m\u001b[0m\n\u001b[1;32m---> 16\u001b[1;33m         \u001b[0mS\u001b[0m\u001b[1;33m,\u001b[0m\u001b[0mA\u001b[0m\u001b[1;33m,\u001b[0m\u001b[0mR\u001b[0m \u001b[1;33m=\u001b[0m \u001b[0mGenerateCartpoleData\u001b[0m\u001b[1;33m(\u001b[0m\u001b[0mtheta_b\u001b[0m\u001b[1;33m)\u001b[0m\u001b[1;33m\u001b[0m\u001b[1;33m\u001b[0m\u001b[0m\n\u001b[0m\u001b[0;32m     17\u001b[0m \u001b[1;31m#         print()\u001b[0m\u001b[1;33m\u001b[0m\u001b[1;33m\u001b[0m\u001b[1;33m\u001b[0m\u001b[0m\n\u001b[0;32m     18\u001b[0m         \u001b[0mret\u001b[0m\u001b[1;33m.\u001b[0m\u001b[0mappend\u001b[0m\u001b[1;33m(\u001b[0m\u001b[0mcalculate_PDIS_H\u001b[0m\u001b[1;33m(\u001b[0m\u001b[0mthetae\u001b[0m\u001b[1;33m,\u001b[0m\u001b[0mtheta_b\u001b[0m\u001b[1;33m,\u001b[0m\u001b[0mS\u001b[0m\u001b[1;33m,\u001b[0m\u001b[0mA\u001b[0m\u001b[1;33m,\u001b[0m\u001b[0mR\u001b[0m\u001b[1;33m,\u001b[0m\u001b[0mfb\u001b[0m\u001b[1;33m)\u001b[0m\u001b[1;33m)\u001b[0m\u001b[1;33m\u001b[0m\u001b[1;33m\u001b[0m\u001b[0m\n",
      "\u001b[1;32m<ipython-input-15-d971204fe5f2>\u001b[0m in \u001b[0;36mGenerateCartpoleData\u001b[1;34m(theta_p)\u001b[0m\n\u001b[0;32m     13\u001b[0m     \u001b[1;32mwhile\u001b[0m \u001b[1;32mnot\u001b[0m \u001b[0mcartpole\u001b[0m\u001b[1;33m.\u001b[0m\u001b[0misEnd\u001b[0m\u001b[1;33m:\u001b[0m\u001b[1;33m\u001b[0m\u001b[1;33m\u001b[0m\u001b[0m\n\u001b[0;32m     14\u001b[0m         \u001b[0mfb2\u001b[0m \u001b[1;33m=\u001b[0m \u001b[0mFourierBasis\u001b[0m\u001b[1;33m(\u001b[0m\u001b[0mlen\u001b[0m\u001b[1;33m(\u001b[0m\u001b[0ms\u001b[0m\u001b[1;33m)\u001b[0m\u001b[1;33m,\u001b[0m \u001b[1;36m1\u001b[0m\u001b[1;33m,\u001b[0m \u001b[1;36m1\u001b[0m\u001b[1;33m)\u001b[0m\u001b[1;33m\u001b[0m\u001b[1;33m\u001b[0m\u001b[0m\n\u001b[1;32m---> 15\u001b[1;33m         \u001b[0mphi\u001b[0m \u001b[1;33m=\u001b[0m \u001b[0mfb2\u001b[0m\u001b[1;33m.\u001b[0m\u001b[0mbasify\u001b[0m\u001b[1;33m(\u001b[0m\u001b[0ms\u001b[0m\u001b[1;33m)\u001b[0m\u001b[1;33m\u001b[0m\u001b[1;33m\u001b[0m\u001b[0m\n\u001b[0m\u001b[0;32m     16\u001b[0m \u001b[1;31m#         print(theta.shape)\u001b[0m\u001b[1;33m\u001b[0m\u001b[1;33m\u001b[0m\u001b[1;33m\u001b[0m\u001b[0m\n\u001b[0;32m     17\u001b[0m         \u001b[0mPsa\u001b[0m \u001b[1;33m=\u001b[0m \u001b[0mnp\u001b[0m\u001b[1;33m.\u001b[0m\u001b[0mdot\u001b[0m\u001b[1;33m(\u001b[0m\u001b[0mphi\u001b[0m\u001b[1;33m,\u001b[0m\u001b[0mtheta\u001b[0m\u001b[1;33m.\u001b[0m\u001b[0mT\u001b[0m\u001b[1;33m)\u001b[0m\u001b[1;33m\u001b[0m\u001b[1;33m\u001b[0m\u001b[0m\n",
      "\u001b[1;32m<ipython-input-10-666fe9ee11b6>\u001b[0m in \u001b[0;36mbasify\u001b[1;34m(self, x)\u001b[0m\n\u001b[0;32m     42\u001b[0m \u001b[1;31m#         print(\"c[i] x\")\u001b[0m\u001b[1;33m\u001b[0m\u001b[1;33m\u001b[0m\u001b[1;33m\u001b[0m\u001b[0m\n\u001b[0;32m     43\u001b[0m         \u001b[1;32mfor\u001b[0m \u001b[0mi\u001b[0m \u001b[1;32min\u001b[0m \u001b[0mrange\u001b[0m\u001b[1;33m(\u001b[0m\u001b[0mself\u001b[0m\u001b[1;33m.\u001b[0m\u001b[0mnTerms\u001b[0m\u001b[1;33m)\u001b[0m\u001b[1;33m:\u001b[0m\u001b[1;33m\u001b[0m\u001b[1;33m\u001b[0m\u001b[0m\n\u001b[1;32m---> 44\u001b[1;33m             \u001b[0mresult\u001b[0m\u001b[1;33m[\u001b[0m\u001b[0mi\u001b[0m\u001b[1;33m]\u001b[0m \u001b[1;33m=\u001b[0m \u001b[0mnp\u001b[0m\u001b[1;33m.\u001b[0m\u001b[0mcos\u001b[0m\u001b[1;33m(\u001b[0m\u001b[0mmath\u001b[0m\u001b[1;33m.\u001b[0m\u001b[0mpi\u001b[0m\u001b[1;33m*\u001b[0m \u001b[0mnp\u001b[0m\u001b[1;33m.\u001b[0m\u001b[0mdot\u001b[0m\u001b[1;33m(\u001b[0m\u001b[0mself\u001b[0m\u001b[1;33m.\u001b[0m\u001b[0mc\u001b[0m\u001b[1;33m[\u001b[0m\u001b[0mi\u001b[0m\u001b[1;33m]\u001b[0m\u001b[1;33m,\u001b[0m \u001b[0mx\u001b[0m\u001b[1;33m)\u001b[0m\u001b[1;33m)\u001b[0m\u001b[1;33m\u001b[0m\u001b[1;33m\u001b[0m\u001b[0m\n\u001b[0m\u001b[0;32m     45\u001b[0m \u001b[1;31m#             print(c[i],x)\u001b[0m\u001b[1;33m\u001b[0m\u001b[1;33m\u001b[0m\u001b[1;33m\u001b[0m\u001b[0m\n\u001b[0;32m     46\u001b[0m \u001b[1;31m#             print(np.dot(self.c[i], x))\u001b[0m\u001b[1;33m\u001b[0m\u001b[1;33m\u001b[0m\u001b[1;33m\u001b[0m\u001b[0m\n",
      "\u001b[1;31mKeyboardInterrupt\u001b[0m: "
     ]
    }
   ],
   "source": [
    "\n",
    "def calculate_PDIS_H(theta_e,theta_b,S,A,R,fb):\n",
    "    pie_pib = 1.0\n",
    "    ret = 0.0\n",
    "    for (s, a, r) in zip(S, A, R): \n",
    "#         print(\"r\",r)\n",
    "        up = calculate_pi(s,a,fb,theta_e.reshape(2,-1))\n",
    "        down = calculate_pi(s,a,fb,theta_b.reshape(2,-1))\n",
    "        pie_pib = pie_pib*(up/down)\n",
    "        ret+=pie_pib*r\n",
    "    return ret\n",
    "# print(calculate_PDIS_H(np.array(es.ask(1)).reshape(2,2),thetab,Episodes[10],fb))\n",
    "\n",
    "def calculate_PDIS_D(thetae,theta_b,fb):\n",
    "    ret = []\n",
    "    for i in range(1000):\n",
    "        S,A,R = GenerateCartpoleData(theta_b)\n",
    "#         print()\n",
    "        ret.append(calculate_PDIS_H(thetae,theta_b,S,A,R,fb))\n",
    "    return np.mean(np.array(ret)),np.std(np.array(ret), ddof=1)\n",
    "# print(calculate_PDIS_D(D_c,np.array(es.ask(1)).reshape(2,2),thetab,fb))\n",
    "\n",
    "\n",
    "sigma = 1.0#2.0*(new_theta_b.dot(new_theta_b.T) + 1.0).reshape(-1)# sigma not sure\n",
    "print(\"sigma: \",sigma)\n",
    "print(\"new theta b: \",new_theta_b)\n",
    "es = cma.CMAEvolutionStrategy(new_theta_b, sigma)# start search from pi_b\n",
    "delta = 0.1\n",
    "c = 5\n",
    "min1 = 10000\n",
    "D_s_size = 1000\n",
    "fb2 = FourierBasis(4, 1, 1)\n",
    "while not es.stop():\n",
    "    solutions = es.ask()# ask for n policies\n",
    "    tell = []\n",
    "    for x in solutions:\n",
    "        pred,sig = calculate_PDIS_D(np.array(x),new_theta_b,fb2)\n",
    "        if pred<min1:\n",
    "            min1 = pred\n",
    "        t_test = pred-2*sig/np.sqrt(D_s_size)*scipy.stats.t.ppf(1-delta,D_s_size-1)\n",
    "#         print(c)\n",
    "        if np.isnan(t_test):\n",
    "            print(\"???\")\n",
    "        if t_test <c or np.isnan(t_test):\n",
    "            print(\"bad!\")\n",
    "            pred = -100000-pred\n",
    "        pred = -pred\n",
    "        tell.append(pred)\n",
    "    es.tell(solutions,tell)\n",
    "#     es.tell(solutions,[-calculate_PDIS_D(D_c[:100],np.array(x).reshape(2,2),thetab,fb)[0] for x in solutions])\n",
    "    es.logger.add()  # write data to disc to be plotted\n",
    "    es.disp()\n",
    "es.result_pretty()\n",
    "cma.plot()  # shortcut for es.logger.plot()\n",
    "print(\"min:\",min1)"
   ]
  },
  {
   "cell_type": "code",
   "execution_count": 20,
   "metadata": {},
   "outputs": [
    {
     "name": "stdout",
     "output_type": "stream",
     "text": [
      "550.5042959134435\n",
      "550.5038626705972\n",
      "550.5026637985467\n",
      "550.504180049419\n",
      "550.5013985468221\n",
      "550.5035232495131\n"
     ]
    },
    {
     "ename": "KeyboardInterrupt",
     "evalue": "",
     "output_type": "error",
     "traceback": [
      "\u001b[1;31m---------------------------------------------------------------------------\u001b[0m",
      "\u001b[1;31mKeyboardInterrupt\u001b[0m                         Traceback (most recent call last)",
      "\u001b[1;32m<ipython-input-20-60890ebf4add>\u001b[0m in \u001b[0;36m<module>\u001b[1;34m\u001b[0m\n\u001b[0;32m      3\u001b[0m \u001b[0mfinal_solutions\u001b[0m \u001b[1;33m=\u001b[0m \u001b[1;33m[\u001b[0m\u001b[1;33m]\u001b[0m\u001b[1;33m\u001b[0m\u001b[1;33m\u001b[0m\u001b[0m\n\u001b[0;32m      4\u001b[0m \u001b[1;32mfor\u001b[0m \u001b[0ms\u001b[0m \u001b[1;32min\u001b[0m \u001b[0msolutions\u001b[0m\u001b[1;33m:\u001b[0m\u001b[1;33m\u001b[0m\u001b[1;33m\u001b[0m\u001b[0m\n\u001b[1;32m----> 5\u001b[1;33m     \u001b[0mpred\u001b[0m\u001b[1;33m,\u001b[0m\u001b[0msig\u001b[0m \u001b[1;33m=\u001b[0m \u001b[0mcalculate_PDIS_D\u001b[0m\u001b[1;33m(\u001b[0m\u001b[0mnp\u001b[0m\u001b[1;33m.\u001b[0m\u001b[0marray\u001b[0m\u001b[1;33m(\u001b[0m\u001b[0ms\u001b[0m\u001b[1;33m)\u001b[0m\u001b[1;33m,\u001b[0m\u001b[0mnew_theta_b\u001b[0m\u001b[1;33m,\u001b[0m\u001b[0mfb2\u001b[0m\u001b[1;33m)\u001b[0m\u001b[1;33m\u001b[0m\u001b[1;33m\u001b[0m\u001b[0m\n\u001b[0m\u001b[0;32m      6\u001b[0m     \u001b[0mprint\u001b[0m\u001b[1;33m(\u001b[0m\u001b[0mpred\u001b[0m\u001b[1;33m)\u001b[0m\u001b[1;33m\u001b[0m\u001b[1;33m\u001b[0m\u001b[0m\n\u001b[0;32m      7\u001b[0m     \u001b[0msafety\u001b[0m \u001b[1;33m=\u001b[0m \u001b[0mpred\u001b[0m \u001b[1;33m-\u001b[0m \u001b[0msig\u001b[0m\u001b[1;33m/\u001b[0m\u001b[0mnp\u001b[0m\u001b[1;33m.\u001b[0m\u001b[0msqrt\u001b[0m\u001b[1;33m(\u001b[0m\u001b[0mD_s_size\u001b[0m\u001b[1;33m)\u001b[0m\u001b[1;33m*\u001b[0m\u001b[0mscipy\u001b[0m\u001b[1;33m.\u001b[0m\u001b[0mstats\u001b[0m\u001b[1;33m.\u001b[0m\u001b[0mt\u001b[0m\u001b[1;33m.\u001b[0m\u001b[0mppf\u001b[0m\u001b[1;33m(\u001b[0m\u001b[1;36m1\u001b[0m\u001b[1;33m-\u001b[0m\u001b[0mdelta\u001b[0m\u001b[1;33m,\u001b[0m\u001b[0mD_s_size\u001b[0m\u001b[1;33m-\u001b[0m\u001b[1;36m1\u001b[0m\u001b[1;33m)\u001b[0m\u001b[1;33m\u001b[0m\u001b[1;33m\u001b[0m\u001b[0m\n",
      "\u001b[1;32m<ipython-input-19-94ca7405027b>\u001b[0m in \u001b[0;36mcalculate_PDIS_D\u001b[1;34m(thetae, theta_b, fb)\u001b[0m\n\u001b[0;32m     16\u001b[0m         \u001b[0mS\u001b[0m\u001b[1;33m,\u001b[0m\u001b[0mA\u001b[0m\u001b[1;33m,\u001b[0m\u001b[0mR\u001b[0m \u001b[1;33m=\u001b[0m \u001b[0mGenerateCartpoleData\u001b[0m\u001b[1;33m(\u001b[0m\u001b[0mtheta_b\u001b[0m\u001b[1;33m)\u001b[0m\u001b[1;33m\u001b[0m\u001b[1;33m\u001b[0m\u001b[0m\n\u001b[0;32m     17\u001b[0m \u001b[1;31m#         print()\u001b[0m\u001b[1;33m\u001b[0m\u001b[1;33m\u001b[0m\u001b[1;33m\u001b[0m\u001b[0m\n\u001b[1;32m---> 18\u001b[1;33m         \u001b[0mret\u001b[0m\u001b[1;33m.\u001b[0m\u001b[0mappend\u001b[0m\u001b[1;33m(\u001b[0m\u001b[0mcalculate_PDIS_H\u001b[0m\u001b[1;33m(\u001b[0m\u001b[0mthetae\u001b[0m\u001b[1;33m,\u001b[0m\u001b[0mtheta_b\u001b[0m\u001b[1;33m,\u001b[0m\u001b[0mS\u001b[0m\u001b[1;33m,\u001b[0m\u001b[0mA\u001b[0m\u001b[1;33m,\u001b[0m\u001b[0mR\u001b[0m\u001b[1;33m,\u001b[0m\u001b[0mfb\u001b[0m\u001b[1;33m)\u001b[0m\u001b[1;33m)\u001b[0m\u001b[1;33m\u001b[0m\u001b[1;33m\u001b[0m\u001b[0m\n\u001b[0m\u001b[0;32m     19\u001b[0m     \u001b[1;32mreturn\u001b[0m \u001b[0mnp\u001b[0m\u001b[1;33m.\u001b[0m\u001b[0mmean\u001b[0m\u001b[1;33m(\u001b[0m\u001b[0mnp\u001b[0m\u001b[1;33m.\u001b[0m\u001b[0marray\u001b[0m\u001b[1;33m(\u001b[0m\u001b[0mret\u001b[0m\u001b[1;33m)\u001b[0m\u001b[1;33m)\u001b[0m\u001b[1;33m,\u001b[0m\u001b[0mnp\u001b[0m\u001b[1;33m.\u001b[0m\u001b[0mstd\u001b[0m\u001b[1;33m(\u001b[0m\u001b[0mnp\u001b[0m\u001b[1;33m.\u001b[0m\u001b[0marray\u001b[0m\u001b[1;33m(\u001b[0m\u001b[0mret\u001b[0m\u001b[1;33m)\u001b[0m\u001b[1;33m,\u001b[0m \u001b[0mddof\u001b[0m\u001b[1;33m=\u001b[0m\u001b[1;36m1\u001b[0m\u001b[1;33m)\u001b[0m\u001b[1;33m\u001b[0m\u001b[1;33m\u001b[0m\u001b[0m\n\u001b[0;32m     20\u001b[0m \u001b[1;31m# print(calculate_PDIS_D(D_c,np.array(es.ask(1)).reshape(2,2),thetab,fb))\u001b[0m\u001b[1;33m\u001b[0m\u001b[1;33m\u001b[0m\u001b[1;33m\u001b[0m\u001b[0m\n",
      "\u001b[1;32m<ipython-input-19-94ca7405027b>\u001b[0m in \u001b[0;36mcalculate_PDIS_H\u001b[1;34m(theta_e, theta_b, S, A, R, fb)\u001b[0m\n\u001b[0;32m      5\u001b[0m \u001b[1;31m#         print(\"r\",r)\u001b[0m\u001b[1;33m\u001b[0m\u001b[1;33m\u001b[0m\u001b[1;33m\u001b[0m\u001b[0m\n\u001b[0;32m      6\u001b[0m         \u001b[0mup\u001b[0m \u001b[1;33m=\u001b[0m \u001b[0mcalculate_pi\u001b[0m\u001b[1;33m(\u001b[0m\u001b[0ms\u001b[0m\u001b[1;33m,\u001b[0m\u001b[0ma\u001b[0m\u001b[1;33m,\u001b[0m\u001b[0mfb\u001b[0m\u001b[1;33m,\u001b[0m\u001b[0mtheta_e\u001b[0m\u001b[1;33m.\u001b[0m\u001b[0mreshape\u001b[0m\u001b[1;33m(\u001b[0m\u001b[1;36m2\u001b[0m\u001b[1;33m,\u001b[0m\u001b[1;33m-\u001b[0m\u001b[1;36m1\u001b[0m\u001b[1;33m)\u001b[0m\u001b[1;33m)\u001b[0m\u001b[1;33m\u001b[0m\u001b[1;33m\u001b[0m\u001b[0m\n\u001b[1;32m----> 7\u001b[1;33m         \u001b[0mdown\u001b[0m \u001b[1;33m=\u001b[0m \u001b[0mcalculate_pi\u001b[0m\u001b[1;33m(\u001b[0m\u001b[0ms\u001b[0m\u001b[1;33m,\u001b[0m\u001b[0ma\u001b[0m\u001b[1;33m,\u001b[0m\u001b[0mfb\u001b[0m\u001b[1;33m,\u001b[0m\u001b[0mtheta_b\u001b[0m\u001b[1;33m.\u001b[0m\u001b[0mreshape\u001b[0m\u001b[1;33m(\u001b[0m\u001b[1;36m2\u001b[0m\u001b[1;33m,\u001b[0m\u001b[1;33m-\u001b[0m\u001b[1;36m1\u001b[0m\u001b[1;33m)\u001b[0m\u001b[1;33m)\u001b[0m\u001b[1;33m\u001b[0m\u001b[1;33m\u001b[0m\u001b[0m\n\u001b[0m\u001b[0;32m      8\u001b[0m         \u001b[0mpie_pib\u001b[0m \u001b[1;33m=\u001b[0m \u001b[0mpie_pib\u001b[0m\u001b[1;33m*\u001b[0m\u001b[1;33m(\u001b[0m\u001b[0mup\u001b[0m\u001b[1;33m/\u001b[0m\u001b[0mdown\u001b[0m\u001b[1;33m)\u001b[0m\u001b[1;33m\u001b[0m\u001b[1;33m\u001b[0m\u001b[0m\n\u001b[0;32m      9\u001b[0m         \u001b[0mret\u001b[0m\u001b[1;33m+=\u001b[0m\u001b[0mpie_pib\u001b[0m\u001b[1;33m*\u001b[0m\u001b[0mr\u001b[0m\u001b[1;33m\u001b[0m\u001b[1;33m\u001b[0m\u001b[0m\n",
      "\u001b[1;32m<ipython-input-11-f9c64192acfb>\u001b[0m in \u001b[0;36mcalculate_pi\u001b[1;34m(s, a, fb, theta)\u001b[0m\n\u001b[0;32m      2\u001b[0m \u001b[0mfb\u001b[0m \u001b[1;33m=\u001b[0m \u001b[0mFourierBasis\u001b[0m\u001b[1;33m(\u001b[0m\u001b[0mm\u001b[0m\u001b[1;33m,\u001b[0m \u001b[0mk\u001b[0m\u001b[1;33m,\u001b[0m \u001b[0mk\u001b[0m\u001b[1;33m)\u001b[0m\u001b[1;33m\u001b[0m\u001b[1;33m\u001b[0m\u001b[0m\n\u001b[0;32m      3\u001b[0m \u001b[1;32mdef\u001b[0m \u001b[0mcalculate_pi\u001b[0m\u001b[1;33m(\u001b[0m\u001b[0ms\u001b[0m\u001b[1;33m,\u001b[0m\u001b[0ma\u001b[0m\u001b[1;33m,\u001b[0m\u001b[0mfb\u001b[0m\u001b[1;33m,\u001b[0m\u001b[0mtheta\u001b[0m\u001b[1;33m)\u001b[0m\u001b[1;33m:\u001b[0m\u001b[1;33m\u001b[0m\u001b[1;33m\u001b[0m\u001b[0m\n\u001b[1;32m----> 4\u001b[1;33m     \u001b[0mphi\u001b[0m \u001b[1;33m=\u001b[0m \u001b[0mfb\u001b[0m\u001b[1;33m.\u001b[0m\u001b[0mbasify\u001b[0m\u001b[1;33m(\u001b[0m\u001b[0ms\u001b[0m\u001b[1;33m)\u001b[0m \u001b[1;31m#2*1\u001b[0m\u001b[1;33m\u001b[0m\u001b[1;33m\u001b[0m\u001b[0m\n\u001b[0m\u001b[0;32m      5\u001b[0m     \u001b[0mup\u001b[0m \u001b[1;33m=\u001b[0m \u001b[0mnp\u001b[0m\u001b[1;33m.\u001b[0m\u001b[0mexp\u001b[0m\u001b[1;33m(\u001b[0m\u001b[0mphi\u001b[0m\u001b[1;33m.\u001b[0m\u001b[0mdot\u001b[0m\u001b[1;33m(\u001b[0m\u001b[0mtheta\u001b[0m\u001b[1;33m[\u001b[0m\u001b[0ma\u001b[0m\u001b[1;33m]\u001b[0m\u001b[1;33m)\u001b[0m\u001b[1;33m)\u001b[0m\u001b[1;33m\u001b[0m\u001b[1;33m\u001b[0m\u001b[0m\n\u001b[0;32m      6\u001b[0m     \u001b[0mdown\u001b[0m \u001b[1;33m=\u001b[0m \u001b[0mnp\u001b[0m\u001b[1;33m.\u001b[0m\u001b[0msum\u001b[0m\u001b[1;33m(\u001b[0m\u001b[0mnp\u001b[0m\u001b[1;33m.\u001b[0m\u001b[0mexp\u001b[0m\u001b[1;33m(\u001b[0m\u001b[0mphi\u001b[0m\u001b[1;33m.\u001b[0m\u001b[0mdot\u001b[0m\u001b[1;33m(\u001b[0m\u001b[0mtheta\u001b[0m\u001b[1;33m.\u001b[0m\u001b[0mT\u001b[0m\u001b[1;33m)\u001b[0m\u001b[1;33m)\u001b[0m\u001b[1;33m)\u001b[0m\u001b[1;33m\u001b[0m\u001b[1;33m\u001b[0m\u001b[0m\n",
      "\u001b[1;32m<ipython-input-10-666fe9ee11b6>\u001b[0m in \u001b[0;36mbasify\u001b[1;34m(self, x)\u001b[0m\n\u001b[0;32m     42\u001b[0m \u001b[1;31m#         print(\"c[i] x\")\u001b[0m\u001b[1;33m\u001b[0m\u001b[1;33m\u001b[0m\u001b[1;33m\u001b[0m\u001b[0m\n\u001b[0;32m     43\u001b[0m         \u001b[1;32mfor\u001b[0m \u001b[0mi\u001b[0m \u001b[1;32min\u001b[0m \u001b[0mrange\u001b[0m\u001b[1;33m(\u001b[0m\u001b[0mself\u001b[0m\u001b[1;33m.\u001b[0m\u001b[0mnTerms\u001b[0m\u001b[1;33m)\u001b[0m\u001b[1;33m:\u001b[0m\u001b[1;33m\u001b[0m\u001b[1;33m\u001b[0m\u001b[0m\n\u001b[1;32m---> 44\u001b[1;33m             \u001b[0mresult\u001b[0m\u001b[1;33m[\u001b[0m\u001b[0mi\u001b[0m\u001b[1;33m]\u001b[0m \u001b[1;33m=\u001b[0m \u001b[0mnp\u001b[0m\u001b[1;33m.\u001b[0m\u001b[0mcos\u001b[0m\u001b[1;33m(\u001b[0m\u001b[0mmath\u001b[0m\u001b[1;33m.\u001b[0m\u001b[0mpi\u001b[0m\u001b[1;33m*\u001b[0m \u001b[0mnp\u001b[0m\u001b[1;33m.\u001b[0m\u001b[0mdot\u001b[0m\u001b[1;33m(\u001b[0m\u001b[0mself\u001b[0m\u001b[1;33m.\u001b[0m\u001b[0mc\u001b[0m\u001b[1;33m[\u001b[0m\u001b[0mi\u001b[0m\u001b[1;33m]\u001b[0m\u001b[1;33m,\u001b[0m \u001b[0mx\u001b[0m\u001b[1;33m)\u001b[0m\u001b[1;33m)\u001b[0m\u001b[1;33m\u001b[0m\u001b[1;33m\u001b[0m\u001b[0m\n\u001b[0m\u001b[0;32m     45\u001b[0m \u001b[1;31m#             print(c[i],x)\u001b[0m\u001b[1;33m\u001b[0m\u001b[1;33m\u001b[0m\u001b[1;33m\u001b[0m\u001b[0m\n\u001b[0;32m     46\u001b[0m \u001b[1;31m#             print(np.dot(self.c[i], x))\u001b[0m\u001b[1;33m\u001b[0m\u001b[1;33m\u001b[0m\u001b[1;33m\u001b[0m\u001b[0m\n",
      "\u001b[1;31mKeyboardInterrupt\u001b[0m: "
     ]
    }
   ],
   "source": [
    "# run safety test\n",
    "solutions = es.ask(1000)\n",
    "final_solutions = []\n",
    "for s in solutions:\n",
    "    pred,sig = calculate_PDIS_D(np.array(s),new_theta_b,fb2)\n",
    "    print(pred)\n",
    "    safety = pred - sig/np.sqrt(D_s_size)*scipy.stats.t.ppf(1-delta,D_s_size-1)\n",
    "    if safety>=c:\n",
    "        final_solutions.append(s)\n",
    "    if(len(final_solutions)>100):\n",
    "        break\n",
    "print(len(final_solutions))\n",
    "print(final_solutions)\n",
    "\n",
    "final_solutions = np.array(final_solutions)\n",
    "# Rett = np.zeros(100)\n",
    "# solutions = np.array(es.ask(100))\n",
    "\n",
    "for i in range(100):\n",
    "    Rett[i] = evaluationFunction2(final_solutions[i] ,100)\n",
    "    print(Rett[i])\n",
    "print((Rett>evaluationFunction2(new_theta_b ,100)).sum())"
   ]
  },
  {
   "cell_type": "code",
   "execution_count": 22,
   "metadata": {},
   "outputs": [
    {
     "name": "stdout",
     "output_type": "stream",
     "text": [
      "25.0\n",
      "25.0\n",
      "25.0\n",
      "25.0\n",
      "25.0\n",
      "25.0\n",
      "25.0\n",
      "25.0\n",
      "25.0\n",
      "25.0\n",
      "25.0\n",
      "25.0\n",
      "25.0\n",
      "25.0\n",
      "25.0\n",
      "25.0\n",
      "25.0\n",
      "25.0\n",
      "25.0\n",
      "25.0\n",
      "25.0\n",
      "25.0\n",
      "25.0\n",
      "25.0\n",
      "25.0\n",
      "25.0\n",
      "25.0\n",
      "25.0\n",
      "25.0\n",
      "25.0\n",
      "25.0\n",
      "25.0\n",
      "25.0\n",
      "25.0\n",
      "25.0\n",
      "25.0\n",
      "25.0\n",
      "25.0\n",
      "25.0\n"
     ]
    },
    {
     "ename": "KeyboardInterrupt",
     "evalue": "",
     "output_type": "error",
     "traceback": [
      "\u001b[1;31m---------------------------------------------------------------------------\u001b[0m",
      "\u001b[1;31mKeyboardInterrupt\u001b[0m                         Traceback (most recent call last)",
      "\u001b[1;32m<ipython-input-22-a9fa6b2a4aeb>\u001b[0m in \u001b[0;36m<module>\u001b[1;34m\u001b[0m\n\u001b[0;32m      1\u001b[0m \u001b[0mRett\u001b[0m \u001b[1;33m=\u001b[0m \u001b[0mnp\u001b[0m\u001b[1;33m.\u001b[0m\u001b[0mzeros\u001b[0m\u001b[1;33m(\u001b[0m\u001b[1;36m100\u001b[0m\u001b[1;33m)\u001b[0m\u001b[1;33m\u001b[0m\u001b[1;33m\u001b[0m\u001b[0m\n\u001b[0;32m      2\u001b[0m \u001b[1;32mfor\u001b[0m \u001b[0mi\u001b[0m \u001b[1;32min\u001b[0m \u001b[0mrange\u001b[0m\u001b[1;33m(\u001b[0m\u001b[1;36m100\u001b[0m\u001b[1;33m)\u001b[0m\u001b[1;33m:\u001b[0m\u001b[1;33m\u001b[0m\u001b[1;33m\u001b[0m\u001b[0m\n\u001b[1;32m----> 3\u001b[1;33m     \u001b[0mRett\u001b[0m\u001b[1;33m[\u001b[0m\u001b[0mi\u001b[0m\u001b[1;33m]\u001b[0m \u001b[1;33m=\u001b[0m \u001b[0mevaluationFunction2\u001b[0m\u001b[1;33m(\u001b[0m\u001b[0msolutions\u001b[0m\u001b[1;33m[\u001b[0m\u001b[0mi\u001b[0m\u001b[1;33m]\u001b[0m \u001b[1;33m,\u001b[0m\u001b[1;36m100\u001b[0m\u001b[1;33m)\u001b[0m\u001b[1;33m\u001b[0m\u001b[1;33m\u001b[0m\u001b[0m\n\u001b[0m\u001b[0;32m      4\u001b[0m     \u001b[0mprint\u001b[0m\u001b[1;33m(\u001b[0m\u001b[0mRett\u001b[0m\u001b[1;33m[\u001b[0m\u001b[0mi\u001b[0m\u001b[1;33m]\u001b[0m\u001b[1;33m)\u001b[0m\u001b[1;33m\u001b[0m\u001b[1;33m\u001b[0m\u001b[0m\n\u001b[0;32m      5\u001b[0m \u001b[0mprint\u001b[0m\u001b[1;33m(\u001b[0m\u001b[1;33m(\u001b[0m\u001b[0mRett\u001b[0m\u001b[1;33m>\u001b[0m\u001b[0mevaluationFunction2\u001b[0m\u001b[1;33m(\u001b[0m\u001b[0mnew_theta_b\u001b[0m \u001b[1;33m,\u001b[0m\u001b[1;36m100\u001b[0m\u001b[1;33m)\u001b[0m\u001b[1;33m)\u001b[0m\u001b[1;33m.\u001b[0m\u001b[0msum\u001b[0m\u001b[1;33m(\u001b[0m\u001b[1;33m)\u001b[0m\u001b[1;33m)\u001b[0m\u001b[1;33m\u001b[0m\u001b[1;33m\u001b[0m\u001b[0m\n",
      "\u001b[1;32m<ipython-input-12-d85d4ccfdf2e>\u001b[0m in \u001b[0;36mevaluationFunction2\u001b[1;34m(theta_p, numEpisodes)\u001b[0m\n\u001b[0;32m     37\u001b[0m             \u001b[0mphi\u001b[0m \u001b[1;33m=\u001b[0m \u001b[0mfb2\u001b[0m\u001b[1;33m.\u001b[0m\u001b[0mbasify\u001b[0m\u001b[1;33m(\u001b[0m\u001b[0ms\u001b[0m\u001b[1;33m)\u001b[0m\u001b[1;33m\u001b[0m\u001b[1;33m\u001b[0m\u001b[0m\n\u001b[0;32m     38\u001b[0m \u001b[1;31m#             print(phi.shape)\u001b[0m\u001b[1;33m\u001b[0m\u001b[1;33m\u001b[0m\u001b[1;33m\u001b[0m\u001b[0m\n\u001b[1;32m---> 39\u001b[1;33m             \u001b[0mPsa\u001b[0m \u001b[1;33m=\u001b[0m \u001b[0mnp\u001b[0m\u001b[1;33m.\u001b[0m\u001b[0mdot\u001b[0m\u001b[1;33m(\u001b[0m\u001b[0mphi\u001b[0m\u001b[1;33m,\u001b[0m\u001b[0mtheta\u001b[0m\u001b[1;33m.\u001b[0m\u001b[0mT\u001b[0m\u001b[1;33m)\u001b[0m\u001b[1;33m\u001b[0m\u001b[1;33m\u001b[0m\u001b[0m\n\u001b[0m\u001b[0;32m     40\u001b[0m             \u001b[0maction\u001b[0m \u001b[1;33m=\u001b[0m \u001b[1;36m0\u001b[0m\u001b[1;33m\u001b[0m\u001b[1;33m\u001b[0m\u001b[0m\n\u001b[0;32m     41\u001b[0m             \u001b[1;32mif\u001b[0m \u001b[0mPsa\u001b[0m\u001b[1;33m[\u001b[0m\u001b[1;36m0\u001b[0m\u001b[1;33m]\u001b[0m\u001b[1;33m<\u001b[0m\u001b[0mPsa\u001b[0m\u001b[1;33m[\u001b[0m\u001b[1;36m1\u001b[0m\u001b[1;33m]\u001b[0m\u001b[1;33m:\u001b[0m\u001b[1;33m\u001b[0m\u001b[1;33m\u001b[0m\u001b[0m\n",
      "\u001b[1;31mKeyboardInterrupt\u001b[0m: "
     ]
    }
   ],
   "source": [
    "Rett = np.zeros(100)\n",
    "for i in range(100):\n",
    "    Rett[i] = evaluationFunction2(solutions[i] ,100)\n",
    "    print(Rett[i])\n",
    "print((Rett>evaluationFunction2(new_theta_b ,100)).sum())"
   ]
  }
 ],
 "metadata": {
  "kernelspec": {
   "display_name": "Python 3",
   "language": "python",
   "name": "python3"
  },
  "language_info": {
   "codemirror_mode": {
    "name": "ipython",
    "version": 3
   },
   "file_extension": ".py",
   "mimetype": "text/x-python",
   "name": "python",
   "nbconvert_exporter": "python",
   "pygments_lexer": "ipython3",
   "version": "3.7.4"
  }
 },
 "nbformat": 4,
 "nbformat_minor": 2
}
